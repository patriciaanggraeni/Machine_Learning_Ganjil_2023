{
 "cells": [
  {
   "cell_type": "markdown",
   "source": [
    "#### LANGKAH 1: IMPORT LIBRARY"
   ],
   "metadata": {
    "collapsed": false
   },
   "id": "9e1f0ae58db6e1c0"
  },
  {
   "cell_type": "code",
   "execution_count": 5,
   "outputs": [],
   "source": [
    "import numpy as np\n",
    "import pandas as pd\n",
    "import matplotlib.pyplot as plt\n",
    "\n",
    "from sklearn.svm import SVR\n",
    "from sklearn.preprocessing import StandardScaler\n",
    "from sklearn.metrics import mean_absolute_error, mean_squared_error, r2_score"
   ],
   "metadata": {
    "collapsed": false,
    "ExecuteTime": {
     "end_time": "2023-09-14T03:26:56.842369300Z",
     "start_time": "2023-09-14T03:26:56.818275900Z"
    }
   },
   "id": "initial_id"
  },
  {
   "cell_type": "markdown",
   "source": [
    "#### LANGKAH 2: MENGIMPORT DATASET"
   ],
   "metadata": {
    "collapsed": false
   },
   "id": "3a1ed2f501b238cb"
  },
  {
   "cell_type": "code",
   "execution_count": 6,
   "outputs": [],
   "source": [
    "# Mengimpor dataset (Pastikan Anda memiliki file CSV 'Posisi_gaji.csv' dalam direktori yang sama)\n",
    "dataset = pd.read_csv('../../data/csv/posisi_gaji.csv')\n",
    "X = dataset.iloc[:, 1:2].values\n",
    "y = dataset.iloc[:, 2].values  # Ubah menjadi satu kolom saja"
   ],
   "metadata": {
    "collapsed": false,
    "ExecuteTime": {
     "end_time": "2023-09-14T03:27:00.293629300Z",
     "start_time": "2023-09-14T03:27:00.264350400Z"
    }
   },
   "id": "b61ce46671dddee5"
  },
  {
   "cell_type": "markdown",
   "source": [
    "#### LANGKAH 3: FUTURE SCALING"
   ],
   "metadata": {
    "collapsed": false
   },
   "id": "18ce603b5b873f38"
  },
  {
   "cell_type": "code",
   "execution_count": 7,
   "outputs": [],
   "source": [
    "sc_X = StandardScaler()\n",
    "sc_y = StandardScaler()\n",
    "X = sc_X.fit_transform(X.reshape(-1, 1))\n",
    "y = sc_y.fit_transform(y.reshape(-1, 1))"
   ],
   "metadata": {
    "collapsed": false,
    "ExecuteTime": {
     "end_time": "2023-09-14T03:27:03.923673300Z",
     "start_time": "2023-09-14T03:27:03.897059Z"
    }
   },
   "id": "1d8cf602961d17da"
  },
  {
   "cell_type": "markdown",
   "source": [
    "### LANGKAH 3: FITTING SVR KE DATASET"
   ],
   "metadata": {
    "collapsed": false
   },
   "id": "950e47d36343ebb5"
  },
  {
   "cell_type": "code",
   "execution_count": 10,
   "outputs": [
    {
     "name": "stderr",
     "output_type": "stream",
     "text": [
      "C:\\ProgramData\\anaconda3\\Lib\\site-packages\\sklearn\\utils\\validation.py:1184: DataConversionWarning: A column-vector y was passed when a 1d array was expected. Please change the shape of y to (n_samples, ), for example using ravel().\n",
      "  y = column_or_1d(y, warn=True)\n"
     ]
    },
    {
     "data": {
      "text/plain": "SVR()",
      "text/html": "<style>#sk-container-id-2 {color: black;}#sk-container-id-2 pre{padding: 0;}#sk-container-id-2 div.sk-toggleable {background-color: white;}#sk-container-id-2 label.sk-toggleable__label {cursor: pointer;display: block;width: 100%;margin-bottom: 0;padding: 0.3em;box-sizing: border-box;text-align: center;}#sk-container-id-2 label.sk-toggleable__label-arrow:before {content: \"▸\";float: left;margin-right: 0.25em;color: #696969;}#sk-container-id-2 label.sk-toggleable__label-arrow:hover:before {color: black;}#sk-container-id-2 div.sk-estimator:hover label.sk-toggleable__label-arrow:before {color: black;}#sk-container-id-2 div.sk-toggleable__content {max-height: 0;max-width: 0;overflow: hidden;text-align: left;background-color: #f0f8ff;}#sk-container-id-2 div.sk-toggleable__content pre {margin: 0.2em;color: black;border-radius: 0.25em;background-color: #f0f8ff;}#sk-container-id-2 input.sk-toggleable__control:checked~div.sk-toggleable__content {max-height: 200px;max-width: 100%;overflow: auto;}#sk-container-id-2 input.sk-toggleable__control:checked~label.sk-toggleable__label-arrow:before {content: \"▾\";}#sk-container-id-2 div.sk-estimator input.sk-toggleable__control:checked~label.sk-toggleable__label {background-color: #d4ebff;}#sk-container-id-2 div.sk-label input.sk-toggleable__control:checked~label.sk-toggleable__label {background-color: #d4ebff;}#sk-container-id-2 input.sk-hidden--visually {border: 0;clip: rect(1px 1px 1px 1px);clip: rect(1px, 1px, 1px, 1px);height: 1px;margin: -1px;overflow: hidden;padding: 0;position: absolute;width: 1px;}#sk-container-id-2 div.sk-estimator {font-family: monospace;background-color: #f0f8ff;border: 1px dotted black;border-radius: 0.25em;box-sizing: border-box;margin-bottom: 0.5em;}#sk-container-id-2 div.sk-estimator:hover {background-color: #d4ebff;}#sk-container-id-2 div.sk-parallel-item::after {content: \"\";width: 100%;border-bottom: 1px solid gray;flex-grow: 1;}#sk-container-id-2 div.sk-label:hover label.sk-toggleable__label {background-color: #d4ebff;}#sk-container-id-2 div.sk-serial::before {content: \"\";position: absolute;border-left: 1px solid gray;box-sizing: border-box;top: 0;bottom: 0;left: 50%;z-index: 0;}#sk-container-id-2 div.sk-serial {display: flex;flex-direction: column;align-items: center;background-color: white;padding-right: 0.2em;padding-left: 0.2em;position: relative;}#sk-container-id-2 div.sk-item {position: relative;z-index: 1;}#sk-container-id-2 div.sk-parallel {display: flex;align-items: stretch;justify-content: center;background-color: white;position: relative;}#sk-container-id-2 div.sk-item::before, #sk-container-id-2 div.sk-parallel-item::before {content: \"\";position: absolute;border-left: 1px solid gray;box-sizing: border-box;top: 0;bottom: 0;left: 50%;z-index: -1;}#sk-container-id-2 div.sk-parallel-item {display: flex;flex-direction: column;z-index: 1;position: relative;background-color: white;}#sk-container-id-2 div.sk-parallel-item:first-child::after {align-self: flex-end;width: 50%;}#sk-container-id-2 div.sk-parallel-item:last-child::after {align-self: flex-start;width: 50%;}#sk-container-id-2 div.sk-parallel-item:only-child::after {width: 0;}#sk-container-id-2 div.sk-dashed-wrapped {border: 1px dashed gray;margin: 0 0.4em 0.5em 0.4em;box-sizing: border-box;padding-bottom: 0.4em;background-color: white;}#sk-container-id-2 div.sk-label label {font-family: monospace;font-weight: bold;display: inline-block;line-height: 1.2em;}#sk-container-id-2 div.sk-label-container {text-align: center;}#sk-container-id-2 div.sk-container {/* jupyter's `normalize.less` sets `[hidden] { display: none; }` but bootstrap.min.css set `[hidden] { display: none !important; }` so we also need the `!important` here to be able to override the default hidden behavior on the sphinx rendered scikit-learn.org. See: https://github.com/scikit-learn/scikit-learn/issues/21755 */display: inline-block !important;position: relative;}#sk-container-id-2 div.sk-text-repr-fallback {display: none;}</style><div id=\"sk-container-id-2\" class=\"sk-top-container\"><div class=\"sk-text-repr-fallback\"><pre>SVR()</pre><b>In a Jupyter environment, please rerun this cell to show the HTML representation or trust the notebook. <br />On GitHub, the HTML representation is unable to render, please try loading this page with nbviewer.org.</b></div><div class=\"sk-container\" hidden><div class=\"sk-item\"><div class=\"sk-estimator sk-toggleable\"><input class=\"sk-toggleable__control sk-hidden--visually\" id=\"sk-estimator-id-2\" type=\"checkbox\" checked><label for=\"sk-estimator-id-2\" class=\"sk-toggleable__label sk-toggleable__label-arrow\">SVR</label><div class=\"sk-toggleable__content\"><pre>SVR()</pre></div></div></div></div></div>"
     },
     "execution_count": 10,
     "metadata": {},
     "output_type": "execute_result"
    }
   ],
   "source": [
    "regressor = SVR(kernel='rbf')\n",
    "regressor.fit(X, y)"
   ],
   "metadata": {
    "collapsed": false,
    "ExecuteTime": {
     "end_time": "2023-09-14T03:28:31.514124500Z",
     "start_time": "2023-09-14T03:28:31.474043500Z"
    }
   },
   "id": "c6599ef2ca26c357"
  },
  {
   "cell_type": "markdown",
   "source": [
    "#### LANGKAH 4: VISUALISASI HASIL SVR"
   ],
   "metadata": {
    "collapsed": false
   },
   "id": "6281fa2d00cc0553"
  },
  {
   "cell_type": "code",
   "execution_count": 18,
   "outputs": [
    {
     "data": {
      "text/plain": "<Figure size 640x480 with 1 Axes>",
      "image/png": "[encoded data removed]"
     },
     "metadata": {},
     "output_type": "display_data"
    }
   ],
   "source": [
    "# Visualisasi hasil SVR (resolusi tinggi dan kurva yang lebih halus)\n",
    "X_grid = np.arange(min(X), max(X), 0.01).reshape(-1, 1)\n",
    "plt.scatter(X, y, color='red')\n",
    "plt.plot(X_grid, regressor.predict(X_grid), color='blue')\n",
    "plt.title('Jujur atau tidak (SVR)')\n",
    "plt.xlabel('Tingkat posisi')\n",
    "plt.ylabel('Gaji')\n",
    "plt.show()"
   ],
   "metadata": {
    "collapsed": false,
    "ExecuteTime": {
     "end_time": "2023-09-14T03:30:21.330898600Z",
     "start_time": "2023-09-14T03:30:20.907231400Z"
    }
   },
   "id": "1c6b58186b4c8eba"
  },
  {
   "cell_type": "markdown",
   "source": [
    "#### LANGKAH 5: PREDIKSI HASIL"
   ],
   "metadata": {
    "collapsed": false
   },
   "id": "e8085a8750af0016"
  },
  {
   "cell_type": "code",
   "execution_count": 19,
   "outputs": [],
   "source": [
    "# Buat array 2D yang berisi tingkat posisi yang akan diprediksi\n",
    "tingkat_posisi_prediksi = np.array([[6.5]])\n",
    "# Penskalaan fitur untuk data yang akan diprediksi\n",
    "tingkat_posisi_prediksi = sc_X.transform(tingkat_posisi_prediksi)\n",
    "# Melakukan prediksi menggunakan model SVR\n",
    "gaji_prediksi = regressor.predict(tingkat_posisi_prediksi)\n",
    "# Kembalikan hasil prediksi ke skala aslinya\n",
    "gaji_prediksi = sc_y.inverse_transform(gaji_prediksi.reshape(-1, 1))"
   ],
   "metadata": {
    "collapsed": false,
    "ExecuteTime": {
     "end_time": "2023-09-14T03:30:26.393778300Z",
     "start_time": "2023-09-14T03:30:26.363105200Z"
    }
   },
   "id": "30c260031c160151"
  },
  {
   "cell_type": "markdown",
   "source": [
    "#### LANGKAH 6: MENAMPILKAN HASIL DAN VALIDASI HASIL"
   ],
   "metadata": {
    "collapsed": false
   },
   "id": "94ca005d415727ff"
  },
  {
   "cell_type": "code",
   "execution_count": 20,
   "outputs": [
    {
     "name": "stdout",
     "output_type": "stream",
     "text": [
      "Prediksi Gaji untuk Tingkat Posisi 6.5: [170370.0204065]\n"
     ]
    }
   ],
   "source": [
    "print(\"Prediksi Gaji untuk Tingkat Posisi 6.5:\", gaji_prediksi[0])"
   ],
   "metadata": {
    "collapsed": false,
    "ExecuteTime": {
     "end_time": "2023-09-14T03:30:29.753806100Z",
     "start_time": "2023-09-14T03:30:29.731785400Z"
    }
   },
   "id": "42f10e5e4dc1ea5c"
  },
  {
   "cell_type": "markdown",
   "source": [
    "#### LANGKAH 7: EVALUASI MODEL SVR"
   ],
   "metadata": {
    "collapsed": false
   },
   "id": "7cf13c3f9ab07555"
  },
  {
   "cell_type": "code",
   "execution_count": 21,
   "outputs": [
    {
     "name": "stdout",
     "output_type": "stream",
     "text": [
      "MAE: 0.22299274095734414\n",
      "MSE: 0.24839989293792014\n",
      "RMSE: 0.4983973243687411\n",
      "R-squared: 0.7516001070620798\n"
     ]
    }
   ],
   "source": [
    "y_actual = y\n",
    "y_pred = regressor.predict(X)\n",
    "\n",
    "# Menghitung MAE\n",
    "mae = mean_absolute_error(y_actual, y_pred)\n",
    "\n",
    "# Menghitung MSE\n",
    "mse = mean_squared_error(y_actual, y_pred)\n",
    "\n",
    "# Menghitung RMSE\n",
    "rmse = np.sqrt(mse)\n",
    "\n",
    "# Menghitung R-squared\n",
    "r2 = r2_score(y_actual, y_pred)\n",
    "\n",
    "print(\"MAE:\", mae)\n",
    "print(\"MSE:\", mse)\n",
    "print(\"RMSE:\", rmse)\n",
    "print(\"R-squared:\", r2)"
   ],
   "metadata": {
    "collapsed": false,
    "ExecuteTime": {
     "end_time": "2023-09-14T03:31:47.913863300Z",
     "start_time": "2023-09-14T03:31:47.859036300Z"
    }
   },
   "id": "a08b263afdb13e78"
  }
 ],
 "metadata": {
  "kernelspec": {
   "display_name": "Python 3",
   "language": "python",
   "name": "python3"
  },
  "language_info": {
   "codemirror_mode": {
    "name": "ipython",
    "version": 2
   },
   "file_extension": ".py",
   "mimetype": "text/x-python",
   "name": "python",
   "nbconvert_exporter": "python",
   "pygments_lexer": "ipython2",
   "version": "2.7.6"
  }
 },
 "nbformat": 4,
 "nbformat_minor": 5
}
