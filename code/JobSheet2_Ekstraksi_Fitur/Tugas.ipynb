{
 "cells": [
  {
   "cell_type": "markdown",
   "source": [
    "# Tugas Praktikum"
   ],
   "metadata": {
    "collapsed": false
   },
   "id": "8394cc47906cdf0d"
  },
  {
   "cell_type": "code",
   "execution_count": 2,
   "outputs": [],
   "source": [
    "import pandas as pd\n",
    "from sklearn.model_selection import train_test_split, KFold\n",
    "from sklearn.preprocessing import LabelEncoder, StandardScaler"
   ],
   "metadata": {
    "collapsed": false,
    "ExecuteTime": {
     "end_time": "2023-09-14T02:01:23.002205300Z",
     "start_time": "2023-09-14T02:01:18.086008900Z"
    }
   },
   "id": "5beadbbf6d9daca5"
  },
  {
   "cell_type": "markdown",
   "source": [
    "### 1. Pisahkan antara variabel yang dapat digunakan dan variabel yang tidak dapat digunakan."
   ],
   "metadata": {
    "collapsed": false
   },
   "id": "36a5a11c82f70d47"
  },
  {
   "cell_type": "code",
   "execution_count": 3,
   "outputs": [
    {
     "data": {
      "text/plain": "  diagnosis  radius_mean  texture_mean  perimeter_mean  area_mean  \\\n0         M        17.99         10.38          122.80     1001.0   \n1         M        20.57         17.77          132.90     1326.0   \n2         M        19.69         21.25          130.00     1203.0   \n3         M        11.42         20.38           77.58      386.1   \n4         M        20.29         14.34          135.10     1297.0   \n\n   smoothness_mean  compactness_mean  concavity_mean  concave points_mean  \\\n0          0.11840           0.27760          0.3001              0.14710   \n1          0.08474           0.07864          0.0869              0.07017   \n2          0.10960           0.15990          0.1974              0.12790   \n3          0.14250           0.28390          0.2414              0.10520   \n4          0.10030           0.13280          0.1980              0.10430   \n\n   symmetry_mean  fractal_dimension_mean  \n0         0.2419                 0.07871  \n1         0.1812                 0.05667  \n2         0.2069                 0.05999  \n3         0.2597                 0.09744  \n4         0.1809                 0.05883  ",
      "text/html": "<div>\n<style scoped>\n    .dataframe tbody tr th:only-of-type {\n        vertical-align: middle;\n    }\n\n    .dataframe tbody tr th {\n        vertical-align: top;\n    }\n\n    .dataframe thead th {\n        text-align: right;\n    }\n</style>\n<table border=\"1\" class=\"dataframe\">\n  <thead>\n    <tr style=\"text-align: right;\">\n      <th></th>\n      <th>diagnosis</th>\n      <th>radius_mean</th>\n      <th>texture_mean</th>\n      <th>perimeter_mean</th>\n      <th>area_mean</th>\n      <th>smoothness_mean</th>\n      <th>compactness_mean</th>\n      <th>concavity_mean</th>\n      <th>concave points_mean</th>\n      <th>symmetry_mean</th>\n      <th>fractal_dimension_mean</th>\n    </tr>\n  </thead>\n  <tbody>\n    <tr>\n      <th>0</th>\n      <td>M</td>\n      <td>17.99</td>\n      <td>10.38</td>\n      <td>122.80</td>\n      <td>1001.0</td>\n      <td>0.11840</td>\n      <td>0.27760</td>\n      <td>0.3001</td>\n      <td>0.14710</td>\n      <td>0.2419</td>\n      <td>0.07871</td>\n    </tr>\n    <tr>\n      <th>1</th>\n      <td>M</td>\n      <td>20.57</td>\n      <td>17.77</td>\n      <td>132.90</td>\n      <td>1326.0</td>\n      <td>0.08474</td>\n      <td>0.07864</td>\n      <td>0.0869</td>\n      <td>0.07017</td>\n      <td>0.1812</td>\n      <td>0.05667</td>\n    </tr>\n    <tr>\n      <th>2</th>\n      <td>M</td>\n      <td>19.69</td>\n      <td>21.25</td>\n      <td>130.00</td>\n      <td>1203.0</td>\n      <td>0.10960</td>\n      <td>0.15990</td>\n      <td>0.1974</td>\n      <td>0.12790</td>\n      <td>0.2069</td>\n      <td>0.05999</td>\n    </tr>\n    <tr>\n      <th>3</th>\n      <td>M</td>\n      <td>11.42</td>\n      <td>20.38</td>\n      <td>77.58</td>\n      <td>386.1</td>\n      <td>0.14250</td>\n      <td>0.28390</td>\n      <td>0.2414</td>\n      <td>0.10520</td>\n      <td>0.2597</td>\n      <td>0.09744</td>\n    </tr>\n    <tr>\n      <th>4</th>\n      <td>M</td>\n      <td>20.29</td>\n      <td>14.34</td>\n      <td>135.10</td>\n      <td>1297.0</td>\n      <td>0.10030</td>\n      <td>0.13280</td>\n      <td>0.1980</td>\n      <td>0.10430</td>\n      <td>0.1809</td>\n      <td>0.05883</td>\n    </tr>\n  </tbody>\n</table>\n</div>"
     },
     "execution_count": 3,
     "metadata": {},
     "output_type": "execute_result"
    }
   ],
   "source": [
    "path = \"../../data/csv/wbc.csv\"\n",
    "df = pd.read_csv(path)\n",
    "\n",
    "# memilih fitur/kkolom yang bergunana\n",
    "df_useful = ['diagnosis'] + [column for column in df.columns if 'mean' in column]  \n",
    "df = df[df_useful]\n",
    "df.head()"
   ],
   "metadata": {
    "collapsed": false,
    "ExecuteTime": {
     "end_time": "2023-09-14T02:01:26.686Z",
     "start_time": "2023-09-14T02:01:26.601057900Z"
    }
   },
   "id": "f1a6c5b3dbe1518e"
  },
  {
   "cell_type": "code",
   "execution_count": 6,
   "outputs": [
    {
     "data": {
      "text/plain": "         id  Unnamed: 32\n0    842302          NaN\n1    842517          NaN\n2  84300903          NaN\n3  84348301          NaN\n4  84358402          NaN",
      "text/html": "<div>\n<style scoped>\n    .dataframe tbody tr th:only-of-type {\n        vertical-align: middle;\n    }\n\n    .dataframe tbody tr th {\n        vertical-align: top;\n    }\n\n    .dataframe thead th {\n        text-align: right;\n    }\n</style>\n<table border=\"1\" class=\"dataframe\">\n  <thead>\n    <tr style=\"text-align: right;\">\n      <th></th>\n      <th>id</th>\n      <th>Unnamed: 32</th>\n    </tr>\n  </thead>\n  <tbody>\n    <tr>\n      <th>0</th>\n      <td>842302</td>\n      <td>NaN</td>\n    </tr>\n    <tr>\n      <th>1</th>\n      <td>842517</td>\n      <td>NaN</td>\n    </tr>\n    <tr>\n      <th>2</th>\n      <td>84300903</td>\n      <td>NaN</td>\n    </tr>\n    <tr>\n      <th>3</th>\n      <td>84348301</td>\n      <td>NaN</td>\n    </tr>\n    <tr>\n      <th>4</th>\n      <td>84358402</td>\n      <td>NaN</td>\n    </tr>\n  </tbody>\n</table>\n</div>"
     },
     "execution_count": 6,
     "metadata": {},
     "output_type": "execute_result"
    }
   ],
   "source": [
    "path = \"../../data/csv/wbc.csv\"\n",
    "df = pd.read_csv(path)\n",
    "\n",
    "# memilih fitur/kkolom yang tidak berguna\n",
    "df_useless = df[['id', 'Unnamed: 32']]\n",
    "df_useless.head()"
   ],
   "metadata": {
    "collapsed": false,
    "ExecuteTime": {
     "end_time": "2023-09-14T02:05:37.116140700Z",
     "start_time": "2023-09-14T02:05:37.057997700Z"
    }
   },
   "id": "a9f6421a6a3f4a63"
  },
  {
   "cell_type": "markdown",
   "source": [
    "### 2. Lakukan proses encoding pada kolom \"diagnosis\"."
   ],
   "metadata": {
    "collapsed": false
   },
   "id": "6355b8ff18f446ee"
  },
  {
   "cell_type": "code",
   "execution_count": 10,
   "outputs": [
    {
     "data": {
      "text/plain": "         id  diagnosis  radius_mean  texture_mean  perimeter_mean  area_mean  \\\n0    842302          1        17.99         10.38          122.80     1001.0   \n1    842517          1        20.57         17.77          132.90     1326.0   \n2  84300903          1        19.69         21.25          130.00     1203.0   \n3  84348301          1        11.42         20.38           77.58      386.1   \n4  84358402          1        20.29         14.34          135.10     1297.0   \n\n   smoothness_mean  compactness_mean  concavity_mean  concave points_mean  \\\n0          0.11840           0.27760          0.3001              0.14710   \n1          0.08474           0.07864          0.0869              0.07017   \n2          0.10960           0.15990          0.1974              0.12790   \n3          0.14250           0.28390          0.2414              0.10520   \n4          0.10030           0.13280          0.1980              0.10430   \n\n   ...  texture_worst  perimeter_worst  area_worst  smoothness_worst  \\\n0  ...          17.33           184.60      2019.0            0.1622   \n1  ...          23.41           158.80      1956.0            0.1238   \n2  ...          25.53           152.50      1709.0            0.1444   \n3  ...          26.50            98.87       567.7            0.2098   \n4  ...          16.67           152.20      1575.0            0.1374   \n\n   compactness_worst  concavity_worst  concave points_worst  symmetry_worst  \\\n0             0.6656           0.7119                0.2654          0.4601   \n1             0.1866           0.2416                0.1860          0.2750   \n2             0.4245           0.4504                0.2430          0.3613   \n3             0.8663           0.6869                0.2575          0.6638   \n4             0.2050           0.4000                0.1625          0.2364   \n\n   fractal_dimension_worst  Unnamed: 32  \n0                  0.11890          NaN  \n1                  0.08902          NaN  \n2                  0.08758          NaN  \n3                  0.17300          NaN  \n4                  0.07678          NaN  \n\n[5 rows x 33 columns]",
      "text/html": "<div>\n<style scoped>\n    .dataframe tbody tr th:only-of-type {\n        vertical-align: middle;\n    }\n\n    .dataframe tbody tr th {\n        vertical-align: top;\n    }\n\n    .dataframe thead th {\n        text-align: right;\n    }\n</style>\n<table border=\"1\" class=\"dataframe\">\n  <thead>\n    <tr style=\"text-align: right;\">\n      <th></th>\n      <th>id</th>\n      <th>diagnosis</th>\n      <th>radius_mean</th>\n      <th>texture_mean</th>\n      <th>perimeter_mean</th>\n      <th>area_mean</th>\n      <th>smoothness_mean</th>\n      <th>compactness_mean</th>\n      <th>concavity_mean</th>\n      <th>concave points_mean</th>\n      <th>...</th>\n      <th>texture_worst</th>\n      <th>perimeter_worst</th>\n      <th>area_worst</th>\n      <th>smoothness_worst</th>\n      <th>compactness_worst</th>\n      <th>concavity_worst</th>\n      <th>concave points_worst</th>\n      <th>symmetry_worst</th>\n      <th>fractal_dimension_worst</th>\n      <th>Unnamed: 32</th>\n    </tr>\n  </thead>\n  <tbody>\n    <tr>\n      <th>0</th>\n      <td>842302</td>\n      <td>1</td>\n      <td>17.99</td>\n      <td>10.38</td>\n      <td>122.80</td>\n      <td>1001.0</td>\n      <td>0.11840</td>\n      <td>0.27760</td>\n      <td>0.3001</td>\n      <td>0.14710</td>\n      <td>...</td>\n      <td>17.33</td>\n      <td>184.60</td>\n      <td>2019.0</td>\n      <td>0.1622</td>\n      <td>0.6656</td>\n      <td>0.7119</td>\n      <td>0.2654</td>\n      <td>0.4601</td>\n      <td>0.11890</td>\n      <td>NaN</td>\n    </tr>\n    <tr>\n      <th>1</th>\n      <td>842517</td>\n      <td>1</td>\n      <td>20.57</td>\n      <td>17.77</td>\n      <td>132.90</td>\n      <td>1326.0</td>\n      <td>0.08474</td>\n      <td>0.07864</td>\n      <td>0.0869</td>\n      <td>0.07017</td>\n      <td>...</td>\n      <td>23.41</td>\n      <td>158.80</td>\n      <td>1956.0</td>\n      <td>0.1238</td>\n      <td>0.1866</td>\n      <td>0.2416</td>\n      <td>0.1860</td>\n      <td>0.2750</td>\n      <td>0.08902</td>\n      <td>NaN</td>\n    </tr>\n    <tr>\n      <th>2</th>\n      <td>84300903</td>\n      <td>1</td>\n      <td>19.69</td>\n      <td>21.25</td>\n      <td>130.00</td>\n      <td>1203.0</td>\n      <td>0.10960</td>\n      <td>0.15990</td>\n      <td>0.1974</td>\n      <td>0.12790</td>\n      <td>...</td>\n      <td>25.53</td>\n      <td>152.50</td>\n      <td>1709.0</td>\n      <td>0.1444</td>\n      <td>0.4245</td>\n      <td>0.4504</td>\n      <td>0.2430</td>\n      <td>0.3613</td>\n      <td>0.08758</td>\n      <td>NaN</td>\n    </tr>\n    <tr>\n      <th>3</th>\n      <td>84348301</td>\n      <td>1</td>\n      <td>11.42</td>\n      <td>20.38</td>\n      <td>77.58</td>\n      <td>386.1</td>\n      <td>0.14250</td>\n      <td>0.28390</td>\n      <td>0.2414</td>\n      <td>0.10520</td>\n      <td>...</td>\n      <td>26.50</td>\n      <td>98.87</td>\n      <td>567.7</td>\n      <td>0.2098</td>\n      <td>0.8663</td>\n      <td>0.6869</td>\n      <td>0.2575</td>\n      <td>0.6638</td>\n      <td>0.17300</td>\n      <td>NaN</td>\n    </tr>\n    <tr>\n      <th>4</th>\n      <td>84358402</td>\n      <td>1</td>\n      <td>20.29</td>\n      <td>14.34</td>\n      <td>135.10</td>\n      <td>1297.0</td>\n      <td>0.10030</td>\n      <td>0.13280</td>\n      <td>0.1980</td>\n      <td>0.10430</td>\n      <td>...</td>\n      <td>16.67</td>\n      <td>152.20</td>\n      <td>1575.0</td>\n      <td>0.1374</td>\n      <td>0.2050</td>\n      <td>0.4000</td>\n      <td>0.1625</td>\n      <td>0.2364</td>\n      <td>0.07678</td>\n      <td>NaN</td>\n    </tr>\n  </tbody>\n</table>\n<p>5 rows × 33 columns</p>\n</div>"
     },
     "execution_count": 10,
     "metadata": {},
     "output_type": "execute_result"
    }
   ],
   "source": [
    "label_encoder = LabelEncoder()\n",
    "\n",
    "# melakukan proses encoding untuk fitur diagnosis \n",
    "# Malignant (M) -> 1\n",
    "# Benign (B) -> 0\n",
    "df['diagnosis'] = label_encoder.fit_transform(df['diagnosis'])\n",
    "df.head()"
   ],
   "metadata": {
    "collapsed": false,
    "ExecuteTime": {
     "end_time": "2023-09-11T16:43:17.581316Z",
     "start_time": "2023-09-11T16:43:17.532155200Z"
    }
   },
   "id": "febb52262afdbdc"
  },
  {
   "cell_type": "markdown",
   "source": [
    "### 3. Lakukan proses standarisasi pada semua kolom yang memiliki nilai numerik."
   ],
   "metadata": {
    "collapsed": false
   },
   "id": "102917010a3c884b"
  },
  {
   "cell_type": "code",
   "execution_count": 16,
   "outputs": [
    {
     "data": {
      "text/plain": "         id  diagnosis  radius_mean  texture_mean  perimeter_mean  area_mean  \\\n0 -0.236405   1.297676     1.097064     -2.073335        1.269934   0.984375   \n1 -0.236403   1.297676     1.829821     -0.353632        1.685955   1.908708   \n2  0.431741   1.297676     1.579888      0.456187        1.566503   1.558884   \n3  0.432121   1.297676    -0.768909      0.253732       -0.592687  -0.764464   \n4  0.432201   1.297676     1.750297     -1.151816        1.776573   1.826229   \n\n   smoothness_mean  compactness_mean  concavity_mean  concave points_mean  \\\n0         1.568466          3.283515        2.652874             2.532475   \n1        -0.826962         -0.487072       -0.023846             0.548144   \n2         0.942210          1.052926        1.363478             2.037231   \n3         3.283553          3.402909        1.915897             1.451707   \n4         0.280372          0.539340        1.371011             1.428493   \n\n   ...  texture_worst  perimeter_worst  area_worst  smoothness_worst  \\\n0  ...      -1.359293         2.303601    2.001237          1.307686   \n1  ...      -0.369203         1.535126    1.890489         -0.375612   \n2  ...      -0.023974         1.347475    1.456285          0.527407   \n3  ...       0.133984        -0.249939   -0.550021          3.394275   \n4  ...      -1.466770         1.338539    1.220724          0.220556   \n\n   compactness_worst  concavity_worst  concave points_worst  symmetry_worst  \\\n0           2.616665         2.109526              2.296076        2.750622   \n1          -0.430444        -0.146749              1.087084       -0.243890   \n2           1.082932         0.854974              1.955000        1.152255   \n3           3.893397         1.989588              2.175786        6.046041   \n4          -0.313395         0.613179              0.729259       -0.868353   \n\n   fractal_dimension_worst  Unnamed: 32  \n0                 1.937015          NaN  \n1                 0.281190          NaN  \n2                 0.201391          NaN  \n3                 4.935010          NaN  \n4                -0.397100          NaN  \n\n[5 rows x 33 columns]",
      "text/html": "<div>\n<style scoped>\n    .dataframe tbody tr th:only-of-type {\n        vertical-align: middle;\n    }\n\n    .dataframe tbody tr th {\n        vertical-align: top;\n    }\n\n    .dataframe thead th {\n        text-align: right;\n    }\n</style>\n<table border=\"1\" class=\"dataframe\">\n  <thead>\n    <tr style=\"text-align: right;\">\n      <th></th>\n      <th>id</th>\n      <th>diagnosis</th>\n      <th>radius_mean</th>\n      <th>texture_mean</th>\n      <th>perimeter_mean</th>\n      <th>area_mean</th>\n      <th>smoothness_mean</th>\n      <th>compactness_mean</th>\n      <th>concavity_mean</th>\n      <th>concave points_mean</th>\n      <th>...</th>\n      <th>texture_worst</th>\n      <th>perimeter_worst</th>\n      <th>area_worst</th>\n      <th>smoothness_worst</th>\n      <th>compactness_worst</th>\n      <th>concavity_worst</th>\n      <th>concave points_worst</th>\n      <th>symmetry_worst</th>\n      <th>fractal_dimension_worst</th>\n      <th>Unnamed: 32</th>\n    </tr>\n  </thead>\n  <tbody>\n    <tr>\n      <th>0</th>\n      <td>-0.236405</td>\n      <td>1.297676</td>\n      <td>1.097064</td>\n      <td>-2.073335</td>\n      <td>1.269934</td>\n      <td>0.984375</td>\n      <td>1.568466</td>\n      <td>3.283515</td>\n      <td>2.652874</td>\n      <td>2.532475</td>\n      <td>...</td>\n      <td>-1.359293</td>\n      <td>2.303601</td>\n      <td>2.001237</td>\n      <td>1.307686</td>\n      <td>2.616665</td>\n      <td>2.109526</td>\n      <td>2.296076</td>\n      <td>2.750622</td>\n      <td>1.937015</td>\n      <td>NaN</td>\n    </tr>\n    <tr>\n      <th>1</th>\n      <td>-0.236403</td>\n      <td>1.297676</td>\n      <td>1.829821</td>\n      <td>-0.353632</td>\n      <td>1.685955</td>\n      <td>1.908708</td>\n      <td>-0.826962</td>\n      <td>-0.487072</td>\n      <td>-0.023846</td>\n      <td>0.548144</td>\n      <td>...</td>\n      <td>-0.369203</td>\n      <td>1.535126</td>\n      <td>1.890489</td>\n      <td>-0.375612</td>\n      <td>-0.430444</td>\n      <td>-0.146749</td>\n      <td>1.087084</td>\n      <td>-0.243890</td>\n      <td>0.281190</td>\n      <td>NaN</td>\n    </tr>\n    <tr>\n      <th>2</th>\n      <td>0.431741</td>\n      <td>1.297676</td>\n      <td>1.579888</td>\n      <td>0.456187</td>\n      <td>1.566503</td>\n      <td>1.558884</td>\n      <td>0.942210</td>\n      <td>1.052926</td>\n      <td>1.363478</td>\n      <td>2.037231</td>\n      <td>...</td>\n      <td>-0.023974</td>\n      <td>1.347475</td>\n      <td>1.456285</td>\n      <td>0.527407</td>\n      <td>1.082932</td>\n      <td>0.854974</td>\n      <td>1.955000</td>\n      <td>1.152255</td>\n      <td>0.201391</td>\n      <td>NaN</td>\n    </tr>\n    <tr>\n      <th>3</th>\n      <td>0.432121</td>\n      <td>1.297676</td>\n      <td>-0.768909</td>\n      <td>0.253732</td>\n      <td>-0.592687</td>\n      <td>-0.764464</td>\n      <td>3.283553</td>\n      <td>3.402909</td>\n      <td>1.915897</td>\n      <td>1.451707</td>\n      <td>...</td>\n      <td>0.133984</td>\n      <td>-0.249939</td>\n      <td>-0.550021</td>\n      <td>3.394275</td>\n      <td>3.893397</td>\n      <td>1.989588</td>\n      <td>2.175786</td>\n      <td>6.046041</td>\n      <td>4.935010</td>\n      <td>NaN</td>\n    </tr>\n    <tr>\n      <th>4</th>\n      <td>0.432201</td>\n      <td>1.297676</td>\n      <td>1.750297</td>\n      <td>-1.151816</td>\n      <td>1.776573</td>\n      <td>1.826229</td>\n      <td>0.280372</td>\n      <td>0.539340</td>\n      <td>1.371011</td>\n      <td>1.428493</td>\n      <td>...</td>\n      <td>-1.466770</td>\n      <td>1.338539</td>\n      <td>1.220724</td>\n      <td>0.220556</td>\n      <td>-0.313395</td>\n      <td>0.613179</td>\n      <td>0.729259</td>\n      <td>-0.868353</td>\n      <td>-0.397100</td>\n      <td>NaN</td>\n    </tr>\n  </tbody>\n</table>\n<p>5 rows × 33 columns</p>\n</div>"
     },
     "execution_count": 16,
     "metadata": {},
     "output_type": "execute_result"
    }
   ],
   "source": [
    "numeric = df.select_dtypes(include=['int64', 'float64']).columns\n",
    "scaler = StandardScaler()\n",
    "\n",
    "if not df.isnull:\n",
    "    df[numeric] = scaler.fit_transform(df[numeric])\n",
    "\n",
    "df.head()\n"
   ],
   "metadata": {
    "collapsed": false,
    "ExecuteTime": {
     "end_time": "2023-09-11T16:53:13.597804200Z",
     "start_time": "2023-09-11T16:53:13.552023200Z"
    }
   },
   "id": "f6f8f98b1d321496"
  },
  {
   "cell_type": "markdown",
   "source": [
    "### 4. Lakukan proses stratified split data untuk membuat data latih dan data uji dengan rasio 80:20."
   ],
   "metadata": {
    "collapsed": false
   },
   "id": "951f93f579a0e3f4"
  },
  {
   "cell_type": "code",
   "execution_count": 23,
   "outputs": [
    {
     "name": "stdout",
     "output_type": "stream",
     "text": [
      "Jumlah label data asli  : \n",
      " -0.770609    357\n",
      " 1.297676    212\n",
      "Name: diagnosis, dtype: int64\n",
      "\n",
      "Jumlah label data latih : \n",
      " -0.770609    285\n",
      " 1.297676    170\n",
      "Name: diagnosis, dtype: int64\n",
      "\n",
      "Jumlah label data test  : \n",
      " -0.770609    72\n",
      " 1.297676    42\n",
      "Name: diagnosis, dtype: int64\n"
     ]
    }
   ],
   "source": [
    "df_train, df_test = train_test_split(df, test_size=0.2, random_state=0, stratify=df['diagnosis'])\n",
    "\n",
    "print(f'Jumlah label data asli  : \\n {df.diagnosis.value_counts()}')\n",
    "print(f'\\nJumlah label data latih : \\n {df_train.diagnosis.value_counts()}')\n",
    "print(f'\\nJumlah label data test  : \\n {df_test.diagnosis.value_counts()}')"
   ],
   "metadata": {
    "collapsed": false,
    "ExecuteTime": {
     "end_time": "2023-09-11T17:06:20.964354Z",
     "start_time": "2023-09-11T17:06:20.925978900Z"
    }
   },
   "id": "14e7e0b40ea423c6"
  },
  {
   "cell_type": "code",
   "execution_count": null,
   "outputs": [],
   "source": [],
   "metadata": {
    "collapsed": false
   },
   "id": "7b56d2085f2afdf3"
  }
 ],
 "metadata": {
  "kernelspec": {
   "display_name": "Python 3",
   "language": "python",
   "name": "python3"
  },
  "language_info": {
   "codemirror_mode": {
    "name": "ipython",
    "version": 2
   },
   "file_extension": ".py",
   "mimetype": "text/x-python",
   "name": "python",
   "nbconvert_exporter": "python",
   "pygments_lexer": "ipython2",
   "version": "2.7.6"
  }
 },
 "nbformat": 4,
 "nbformat_minor": 5
}
