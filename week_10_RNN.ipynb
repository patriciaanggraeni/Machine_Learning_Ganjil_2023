{
  "cells": [
    {
      "cell_type": "markdown",
      "metadata": {
        "id": "view-in-github",
        "colab_type": "text"
      },
      "source": [
        "<a href=\"https://colab.research.google.com/github/patriciaanggraeni/Machine_Learning_Ganjil_2023/blob/main/week_10_RNN.ipynb\" target=\"_parent\"><img src=\"https://colab.research.google.com/assets/colab-badge.svg\" alt=\"Open In Colab\"/></a>"
      ]
    },
    {
      "cell_type": "code",
      "execution_count": 5,
      "metadata": {
        "id": "OtXwok0pptVH"
      },
      "outputs": [],
      "source": [
        "import os\n",
        "import time\n",
        "import numpy as np\n",
        "import tensorflow as tf\n",
        "import matplotlib.pyplot as plt\n",
        "import tensorflow_datasets as tfds\n",
        "\n",
        "tfds.disable_progress_bar()"
      ]
    },
    {
      "cell_type": "markdown",
      "metadata": {
        "id": "J2DnmNyo6Dac"
      },
      "source": [
        "# Praktikum 1 - RNN untuk Analisis Sentimen"
      ]
    },
    {
      "cell_type": "code",
      "execution_count": 6,
      "metadata": {
        "id": "32p7vA3Arau2"
      },
      "outputs": [],
      "source": [
        "def plot_graphs(history, metric):\n",
        "  plt.plot(history.history[metric])\n",
        "  plt.plot(history.history['val_'+metric], '')\n",
        "  plt.xlabel(\"Epochs\")\n",
        "  plt.ylabel(metric)\n",
        "  plt.legend([metric, 'val_'+metric])"
      ]
    },
    {
      "cell_type": "code",
      "execution_count": 7,
      "metadata": {
        "colab": {
          "base_uri": "https://localhost:8080/"
        },
        "id": "_tSD4fR0rrmW",
        "outputId": "5a24d9fa-92f6-4f27-d67f-929f604fa52c"
      },
      "outputs": [
        {
          "output_type": "stream",
          "name": "stdout",
          "text": [
            "Downloading and preparing dataset 80.23 MiB (download: 80.23 MiB, generated: Unknown size, total: 80.23 MiB) to /root/tensorflow_datasets/imdb_reviews/plain_text/1.0.0...\n",
            "Dataset imdb_reviews downloaded and prepared to /root/tensorflow_datasets/imdb_reviews/plain_text/1.0.0. Subsequent calls will reuse this data.\n"
          ]
        },
        {
          "output_type": "execute_result",
          "data": {
            "text/plain": [
              "(TensorSpec(shape=(), dtype=tf.string, name=None),\n",
              " TensorSpec(shape=(), dtype=tf.int64, name=None))"
            ]
          },
          "metadata": {},
          "execution_count": 7
        }
      ],
      "source": [
        "dataset, info = tfds.load('imdb_reviews', with_info=True, as_supervised=True)\n",
        "train_dataset, test_dataset = dataset['train'], dataset['test']\n",
        "\n",
        "train_dataset.element_spec"
      ]
    },
    {
      "cell_type": "code",
      "execution_count": 8,
      "metadata": {
        "colab": {
          "base_uri": "https://localhost:8080/"
        },
        "id": "Z4yASiDfrvyH",
        "outputId": "e3c970de-d28c-4164-db3c-4dc01fd259ec"
      },
      "outputs": [
        {
          "output_type": "stream",
          "name": "stdout",
          "text": [
            "text:  b\"This was an absolutely terrible movie. Don't be lured in by Christopher Walken or Michael Ironside. Both are great actors, but this must simply be their worst role in history. Even their great acting could not redeem this movie's ridiculous storyline. This movie is an early nineties US propaganda piece. The most pathetic scenes were those when the Columbian rebels were making their cases for revolutions. Maria Conchita Alonso appeared phony, and her pseudo-love affair with Walken was nothing but a pathetic emotional plug in a movie that was devoid of any real meaning. I am disappointed that there are movies like this, ruining actor's like Christopher Walken's good name. I could barely sit through it.\"\n",
            "label:  0\n"
          ]
        }
      ],
      "source": [
        "for example, label in train_dataset.take(1):\n",
        "  print('text: ', example.numpy())\n",
        "  print('label: ', label.numpy())"
      ]
    },
    {
      "cell_type": "code",
      "execution_count": 9,
      "metadata": {
        "colab": {
          "base_uri": "https://localhost:8080/"
        },
        "id": "clGmR_XQrxiN",
        "outputId": "0daae7cd-9cee-4533-923f-ee89f37bbb81"
      },
      "outputs": [
        {
          "output_type": "stream",
          "name": "stdout",
          "text": [
            "texts:  [b'Sarah Silverman is really the \"flavor of the month\" comic right now. Is she really worth all the hype? Yes and no. She is funny at times, sometimes hilariously so (her standup routine is actually quite interesting, though not always funny). Other times, you\\'re feeling cheated by the media for overhyping yet another performer. She is one of those really cute comedians that men especially flock to, saying that they dig her intelligence and wit. But if you corner them, most men will admit that they just want to sleep with her, and that\\'s why they watch her. She reminds me of why many men flocked to Margaret Cho and Janeane Garofalo, even though neither of them are really \"hot\" now in terms of popularity. Sarah doesn\\'t drink or smoke (at least cigs), so she should be hot when she\\'s 60, so her fans (especially the male ones) can rejoice.<br /><br />As for this show, it\\'s very much like her comedy. When it works, it\\'s hilarious. When it doesn\\'t, it\\'s full blown tedium and very, very boring. The AIDS episode here is the best one. It\\'s consistently funny, and has some really good satire in it. Brian Poeshn\\'s character has an unhealthy obsession with Tab in one episode, and it\\'s hilarious seeing him in a Tab T-shirt. But they never really go anywhere with it, and it eventually wears out its welcome. Sarah\\'s character in the series is rather annoying, the gay couple (Brian Poeshn and some other guy) seems tacked on and never really does anything for the show as a whole, and the supporting players (including Sarah\\'s real life sister, Laura, who doesn\\'t look a thing like her) are OK. When the jokes hit, they\\'re brilliant. When they don\\'t, they\\'re awful, and I mean really awful. There\\'s also an obsession with coprophilia here (aka poop jokes), which seems to have replaced actual wit and intelligence in comedy today. So should you watch this show? If you have a crush on Sarah, go for it. You can gaze at her and pretend she\\'s yours. As for her show, it\\'s ranges from good to absolute zero.'\n",
            " b'Kurosawa really blew it on this one. Every genius is allowed a failure. The concept is fine but the execution is badly blurred.<br /><br />There is an air of fantasy about this film making it something of an art film. The poverty stricken of Tokyo deserve a fairer and more realistic portrayal. Many of them have interesting stories to tell. A very disappointing film.'\n",
            " b\"Weaker entry in the Bulldog Drummond series, with John Howard in the role. Usual funny banter and antics, but not much plot. Barrymore gets something to do as the inspector, swapping disguises to follow Drummond, Algy, and Tenny on a wild goose chase (mostly in circles; perhaps the budget was tighter than usual) to rescue poor Phyllis, who is being held captive by people who want to lure Drummond to his doom. For those keeping score, in this one, Drummond is planning to ask Phyllis to marry him and Algy is worried about missing the baby's christening. It's fun to see Algy and Tenny dressed up as fisherman to blend in at The Angler's Rest, but little of it rises above silly.\"]\n",
            "\n",
            "labels:  [0 0 0]\n"
          ]
        }
      ],
      "source": [
        "BUFFER_SIZE = 10000\n",
        "BATCH_SIZE = 64\n",
        "\n",
        "train_dataset = train_dataset.shuffle(BUFFER_SIZE).batch(BATCH_SIZE).prefetch(tf.data.AUTOTUNE)\n",
        "test_dataset = test_dataset.batch(BATCH_SIZE).prefetch(tf.data.AUTOTUNE)\n",
        "\n",
        "for example, label in train_dataset.take(1):\n",
        "  print('texts: ', example.numpy()[:3])\n",
        "  print()\n",
        "  print('labels: ', label.numpy()[:3])"
      ]
    },
    {
      "cell_type": "markdown",
      "metadata": {
        "id": "FYYvFneHsAyx"
      },
      "source": [
        "## Buat Teks Encoder"
      ]
    },
    {
      "cell_type": "code",
      "execution_count": 10,
      "metadata": {
        "colab": {
          "base_uri": "https://localhost:8080/"
        },
        "id": "-ih_G8ZhsCxE",
        "outputId": "64a1db1a-111a-4c4b-853e-2af8d44451a5"
      },
      "outputs": [
        {
          "output_type": "stream",
          "name": "stdout",
          "text": [
            "Original:  b'Sarah Silverman is really the \"flavor of the month\" comic right now. Is she really worth all the hype? Yes and no. She is funny at times, sometimes hilariously so (her standup routine is actually quite interesting, though not always funny). Other times, you\\'re feeling cheated by the media for overhyping yet another performer. She is one of those really cute comedians that men especially flock to, saying that they dig her intelligence and wit. But if you corner them, most men will admit that they just want to sleep with her, and that\\'s why they watch her. She reminds me of why many men flocked to Margaret Cho and Janeane Garofalo, even though neither of them are really \"hot\" now in terms of popularity. Sarah doesn\\'t drink or smoke (at least cigs), so she should be hot when she\\'s 60, so her fans (especially the male ones) can rejoice.<br /><br />As for this show, it\\'s very much like her comedy. When it works, it\\'s hilarious. When it doesn\\'t, it\\'s full blown tedium and very, very boring. The AIDS episode here is the best one. It\\'s consistently funny, and has some really good satire in it. Brian Poeshn\\'s character has an unhealthy obsession with Tab in one episode, and it\\'s hilarious seeing him in a Tab T-shirt. But they never really go anywhere with it, and it eventually wears out its welcome. Sarah\\'s character in the series is rather annoying, the gay couple (Brian Poeshn and some other guy) seems tacked on and never really does anything for the show as a whole, and the supporting players (including Sarah\\'s real life sister, Laura, who doesn\\'t look a thing like her) are OK. When the jokes hit, they\\'re brilliant. When they don\\'t, they\\'re awful, and I mean really awful. There\\'s also an obsession with coprophilia here (aka poop jokes), which seems to have replaced actual wit and intelligence in comedy today. So should you watch this show? If you have a crush on Sarah, go for it. You can gaze at her and pretend she\\'s yours. As for her show, it\\'s ranges from good to absolute zero.'\n",
            "Round-trip:  [UNK] [UNK] is really the [UNK] of the [UNK] comic right now is she really worth all the [UNK] yes and no she is funny at times sometimes [UNK] so her [UNK] [UNK] is actually quite interesting though not always funny other times youre feeling [UNK] by the [UNK] for [UNK] yet another [UNK] she is one of those really [UNK] [UNK] that men especially [UNK] to saying that they [UNK] her [UNK] and [UNK] but if you [UNK] them most men will admit that they just want to [UNK] with her and thats why they watch her she [UNK] me of why many men [UNK] to [UNK] [UNK] and [UNK] [UNK] even though [UNK] of them are really hot now in [UNK] of [UNK] [UNK] doesnt [UNK] or [UNK] at least [UNK] so she should be hot when shes [UNK] so her fans especially the male ones can [UNK] br as for this show its very much like her comedy when it works its hilarious when it doesnt its full [UNK] [UNK] and very very boring the [UNK] episode here is the best one its [UNK] funny and has some really good [UNK] in it [UNK] [UNK] character has an [UNK] [UNK] with [UNK] in one episode and its hilarious seeing him in a [UNK] [UNK] but they never really go [UNK] with it and it eventually [UNK] out its [UNK] [UNK] character in the series is rather annoying the [UNK] couple [UNK] [UNK] and some other guy seems [UNK] on and never really does anything for the show as a whole and the supporting [UNK] including [UNK] real life sister [UNK] who doesnt look a thing like her are ok when the jokes hit theyre brilliant when they dont theyre awful and i mean really awful theres also an [UNK] with [UNK] here [UNK] [UNK] jokes which seems to have [UNK] actual [UNK] and [UNK] in comedy today so should you watch this show if you have a [UNK] on [UNK] go for it you can [UNK] at her and [UNK] shes [UNK] as for her show its [UNK] from good to [UNK] [UNK]                                                                                                                                                                                                                                                                                                                                                                                                                                                                                                                                                                                                                                                                                                                                                                                                                                                                                                                                                                                                                                                                                                                                                                                                                                                                                                                                                                                                                                                                                                                                          \n",
            "\n",
            "Original:  b'Kurosawa really blew it on this one. Every genius is allowed a failure. The concept is fine but the execution is badly blurred.<br /><br />There is an air of fantasy about this film making it something of an art film. The poverty stricken of Tokyo deserve a fairer and more realistic portrayal. Many of them have interesting stories to tell. A very disappointing film.'\n",
            "Round-trip:  [UNK] really [UNK] it on this one every [UNK] is [UNK] a [UNK] the [UNK] is fine but the [UNK] is badly [UNK] br there is an air of fantasy about this film making it something of an art film the [UNK] [UNK] of [UNK] [UNK] a [UNK] and more realistic [UNK] many of them have interesting stories to tell a very [UNK] film                                                                                                                                                                                                                                                                                                                                                                                                                                                                                                                                                                                                                                                                                                                                                                                                                                                                                                                                                                                                                                                                                                                                                                                                                                                                                                                                                                                                                                                                                                                                                                                                                                                                                                                                                                                                                                              \n",
            "\n",
            "Original:  b\"Weaker entry in the Bulldog Drummond series, with John Howard in the role. Usual funny banter and antics, but not much plot. Barrymore gets something to do as the inspector, swapping disguises to follow Drummond, Algy, and Tenny on a wild goose chase (mostly in circles; perhaps the budget was tighter than usual) to rescue poor Phyllis, who is being held captive by people who want to lure Drummond to his doom. For those keeping score, in this one, Drummond is planning to ask Phyllis to marry him and Algy is worried about missing the baby's christening. It's fun to see Algy and Tenny dressed up as fisherman to blend in at The Angler's Rest, but little of it rises above silly.\"\n",
            "Round-trip:  [UNK] [UNK] in the [UNK] [UNK] series with john [UNK] in the role usual funny [UNK] and [UNK] but not much plot [UNK] gets something to do as the [UNK] [UNK] [UNK] to follow [UNK] [UNK] and [UNK] on a [UNK] [UNK] [UNK] mostly in [UNK] perhaps the budget was [UNK] than usual to [UNK] poor [UNK] who is being [UNK] [UNK] by people who want to [UNK] [UNK] to his [UNK] for those [UNK] score in this one [UNK] is [UNK] to ask [UNK] to [UNK] him and [UNK] is [UNK] about missing the [UNK] [UNK] its fun to see [UNK] and [UNK] [UNK] up as [UNK] to [UNK] in at the [UNK] rest but little of it [UNK] above silly                                                                                                                                                                                                                                                                                                                                                                                                                                                                                                                                                                                                                                                                                                                                                                                                                                                                                                                                                                                                                                                                                                                                                                                                                                                                                                                                                                                                                                                                                                                                                                                                                                                                                                                                                                                    \n",
            "\n"
          ]
        }
      ],
      "source": [
        "VOCAB_SIZE = 1000\n",
        "encoder = tf.keras.layers.TextVectorization(\n",
        "    max_tokens=VOCAB_SIZE)\n",
        "encoder.adapt(train_dataset.map(lambda text, label: text))\n",
        "\n",
        "vocab = np.array(encoder.get_vocabulary())\n",
        "vocab[:20]\n",
        "\n",
        "encoded_example = encoder(example)[:3].numpy()\n",
        "encoded_example\n",
        "\n",
        "for n in range(3):\n",
        "  print(\"Original: \", example[n].numpy())\n",
        "  print(\"Round-trip: \", \" \".join(vocab[encoded_example[n]]))\n",
        "  print()"
      ]
    },
    {
      "cell_type": "markdown",
      "metadata": {
        "id": "OZ05ZQTasVTe"
      },
      "source": [
        "## Buat Model"
      ]
    },
    {
      "cell_type": "code",
      "execution_count": 11,
      "metadata": {
        "colab": {
          "base_uri": "https://localhost:8080/"
        },
        "id": "SkXEM5wwsU4w",
        "outputId": "dee5514c-f81a-42c2-fa73-6b70f49910c9"
      },
      "outputs": [
        {
          "output_type": "stream",
          "name": "stdout",
          "text": [
            "[False, True, True, True, True]\n"
          ]
        }
      ],
      "source": [
        "model = tf.keras.Sequential([\n",
        "    encoder,\n",
        "    tf.keras.layers.Embedding(\n",
        "        input_dim=len(encoder.get_vocabulary()),\n",
        "        output_dim=64,\n",
        "        # Use masking to handle the variable sequence lengths\n",
        "        mask_zero=True),\n",
        "    tf.keras.layers.Bidirectional(tf.keras.layers.LSTM(64)),\n",
        "    tf.keras.layers.Dense(64, activation='relu'),\n",
        "    tf.keras.layers.Dense(1)\n",
        "])\n",
        "\n",
        "print([layer.supports_masking for layer in model.layers])"
      ]
    },
    {
      "cell_type": "code",
      "execution_count": 12,
      "metadata": {
        "colab": {
          "base_uri": "https://localhost:8080/"
        },
        "id": "t1CbsnQXscV6",
        "outputId": "97c0053c-64d3-47f8-cc24-01f57391a119"
      },
      "outputs": [
        {
          "output_type": "stream",
          "name": "stdout",
          "text": [
            "1/1 [==============================] - 8s 8s/step\n",
            "[0.00462598]\n"
          ]
        }
      ],
      "source": [
        "# predict on a sample text without padding.\n",
        "\n",
        "sample_text = ('The movie was cool. The animation and the graphics '\n",
        "               'were out of this world. I would recommend this movie.')\n",
        "predictions = model.predict(np.array([sample_text]))\n",
        "print(predictions[0])"
      ]
    },
    {
      "cell_type": "code",
      "execution_count": 13,
      "metadata": {
        "colab": {
          "base_uri": "https://localhost:8080/"
        },
        "id": "3Mn4wjAbsfwm",
        "outputId": "7b614df5-da7e-4b12-c4aa-b43ff5e62091"
      },
      "outputs": [
        {
          "output_type": "stream",
          "name": "stdout",
          "text": [
            "1/1 [==============================] - 0s 60ms/step\n",
            "[0.00462598]\n"
          ]
        }
      ],
      "source": [
        "# predict on a sample text with padding\n",
        "\n",
        "padding = \"the \" * 2000\n",
        "predictions = model.predict(np.array([sample_text, padding]))\n",
        "print(predictions[0])"
      ]
    },
    {
      "cell_type": "code",
      "execution_count": 14,
      "metadata": {
        "id": "8UuZC72CshL-"
      },
      "outputs": [],
      "source": [
        "model.compile(loss=tf.keras.losses.BinaryCrossentropy(from_logits=True),\n",
        "              optimizer=tf.keras.optimizers.Adam(1e-4),\n",
        "              metrics=['accuracy'])"
      ]
    },
    {
      "cell_type": "markdown",
      "metadata": {
        "id": "jU-364aEs63X"
      },
      "source": [
        "## Train Model"
      ]
    },
    {
      "cell_type": "code",
      "execution_count": 15,
      "metadata": {
        "colab": {
          "base_uri": "https://localhost:8080/"
        },
        "id": "QEe4jRxItCfu",
        "outputId": "7d1dd616-31eb-47d1-da8f-4fbe53f3e722"
      },
      "outputs": [
        {
          "output_type": "stream",
          "name": "stdout",
          "text": [
            "Epoch 1/10\n",
            "391/391 [==============================] - 51s 106ms/step - loss: 0.6348 - accuracy: 0.5804 - val_loss: 0.5520 - val_accuracy: 0.5406\n",
            "Epoch 2/10\n",
            "391/391 [==============================] - 27s 68ms/step - loss: 0.5197 - accuracy: 0.7273 - val_loss: 0.4534 - val_accuracy: 0.7797\n",
            "Epoch 3/10\n",
            "391/391 [==============================] - 25s 63ms/step - loss: 0.4038 - accuracy: 0.8196 - val_loss: 0.3883 - val_accuracy: 0.8245\n",
            "Epoch 4/10\n",
            "391/391 [==============================] - 26s 66ms/step - loss: 0.3629 - accuracy: 0.8419 - val_loss: 0.3699 - val_accuracy: 0.8401\n",
            "Epoch 5/10\n",
            "391/391 [==============================] - 25s 63ms/step - loss: 0.3382 - accuracy: 0.8538 - val_loss: 0.3454 - val_accuracy: 0.8438\n",
            "Epoch 6/10\n",
            "391/391 [==============================] - 24s 60ms/step - loss: 0.3266 - accuracy: 0.8583 - val_loss: 0.3452 - val_accuracy: 0.8401\n",
            "Epoch 7/10\n",
            "391/391 [==============================] - 26s 67ms/step - loss: 0.3162 - accuracy: 0.8655 - val_loss: 0.3319 - val_accuracy: 0.8536\n",
            "Epoch 8/10\n",
            "391/391 [==============================] - 24s 60ms/step - loss: 0.3119 - accuracy: 0.8671 - val_loss: 0.3256 - val_accuracy: 0.8599\n",
            "Epoch 9/10\n",
            "391/391 [==============================] - 25s 62ms/step - loss: 0.3099 - accuracy: 0.8686 - val_loss: 0.3250 - val_accuracy: 0.8531\n",
            "Epoch 10/10\n",
            "391/391 [==============================] - 26s 67ms/step - loss: 0.3057 - accuracy: 0.8712 - val_loss: 0.3244 - val_accuracy: 0.8604\n"
          ]
        }
      ],
      "source": [
        "history = model.fit(train_dataset, epochs=10, validation_data=test_dataset, validation_steps=30)"
      ]
    },
    {
      "cell_type": "code",
      "execution_count": 16,
      "metadata": {
        "colab": {
          "base_uri": "https://localhost:8080/"
        },
        "id": "ITAIDBDStHqJ",
        "outputId": "5247e0b6-04e8-49ae-820e-639835c20310"
      },
      "outputs": [
        {
          "output_type": "stream",
          "name": "stdout",
          "text": [
            "391/391 [==============================] - 12s 31ms/step - loss: 0.3188 - accuracy: 0.8592\n",
            "Test Loss: 0.3187703490257263\n",
            "Test Accuracy: 0.8592000007629395\n"
          ]
        }
      ],
      "source": [
        "test_loss, test_acc = model.evaluate(test_dataset)\n",
        "\n",
        "print('Test Loss:', test_loss)\n",
        "print('Test Accuracy:', test_acc)"
      ]
    },
    {
      "cell_type": "code",
      "execution_count": 17,
      "metadata": {
        "colab": {
          "base_uri": "https://localhost:8080/",
          "height": 627
        },
        "id": "Obp_siHHtI1O",
        "outputId": "7e89cf0b-42df-4ae2-b9f9-ea5c98e26b3a"
      },
      "outputs": [
        {
          "output_type": "execute_result",
          "data": {
            "text/plain": [
              "(0.0, 0.6512596681714058)"
            ]
          },
          "metadata": {},
          "execution_count": 17
        },
        {
          "output_type": "display_data",
          "data": {
            "text/plain": [
              "<Figure size 1600x800 with 2 Axes>"
            ],
            "image/png": "[encoded data removed]"
          },
          "metadata": {}
        }
      ],
      "source": [
        "plt.figure(figsize=(16, 8))\n",
        "plt.subplot(1, 2, 1)\n",
        "plot_graphs(history, 'accuracy')\n",
        "plt.ylim(None, 1)\n",
        "plt.subplot(1, 2, 2)\n",
        "plot_graphs(history, 'loss')\n",
        "plt.ylim(0, None)"
      ]
    },
    {
      "cell_type": "code",
      "execution_count": 18,
      "metadata": {
        "colab": {
          "base_uri": "https://localhost:8080/"
        },
        "id": "0tOgusnhtSpD",
        "outputId": "50abe899-569f-43d6-9b5f-e0d20c0f3df6"
      },
      "outputs": [
        {
          "output_type": "stream",
          "name": "stdout",
          "text": [
            "1/1 [==============================] - 4s 4s/step\n"
          ]
        }
      ],
      "source": [
        "sample_text = ('The movie was cool. The animation and the graphics ' 'were out of this world. I would recommend this movie.')\n",
        "predictions = model.predict(np.array([sample_text]))"
      ]
    },
    {
      "cell_type": "markdown",
      "metadata": {
        "id": "C02HsyfGtWmk"
      },
      "source": [
        "## Stack two or more LSTM layers"
      ]
    },
    {
      "cell_type": "code",
      "execution_count": 19,
      "metadata": {
        "id": "RIwbgeMJtcCM"
      },
      "outputs": [],
      "source": [
        "model = tf.keras.Sequential([\n",
        "  encoder,\n",
        "  tf.keras.layers.Embedding(len(encoder.get_vocabulary()), 64, mask_zero=True),\n",
        "  tf.keras.layers.Bidirectional(tf.keras.layers.LSTM(64, return_sequences=True)),\n",
        "  tf.keras.layers.Bidirectional(tf.keras.layers.LSTM(32)),\n",
        "  tf.keras.layers.Dense(64, activation='relu'),\n",
        "  tf.keras.layers.Dropout(0.5),\n",
        "  tf.keras.layers.Dense(1)\n",
        "])"
      ]
    },
    {
      "cell_type": "code",
      "execution_count": 20,
      "metadata": {
        "id": "RJBo_gXNtg_n"
      },
      "outputs": [],
      "source": [
        "model.compile(loss=tf.keras.losses.BinaryCrossentropy(from_logits=True),\n",
        "  optimizer=tf.keras.optimizers.Adam(1e-4),\n",
        "  metrics=['accuracy'])"
      ]
    },
    {
      "cell_type": "code",
      "execution_count": 21,
      "metadata": {
        "colab": {
          "base_uri": "https://localhost:8080/"
        },
        "id": "L5ZQ3Doytjt1",
        "outputId": "45a29c67-1c94-4b4e-8ee9-e6503f79e0b6"
      },
      "outputs": [
        {
          "output_type": "stream",
          "name": "stdout",
          "text": [
            "Epoch 1/10\n",
            "391/391 [==============================] - 79s 155ms/step - loss: 0.6059 - accuracy: 0.6034 - val_loss: 0.4106 - val_accuracy: 0.7969\n",
            "Epoch 2/10\n",
            "391/391 [==============================] - 47s 119ms/step - loss: 0.3710 - accuracy: 0.8330 - val_loss: 0.3447 - val_accuracy: 0.8432\n",
            "Epoch 3/10\n",
            "391/391 [==============================] - 46s 118ms/step - loss: 0.3330 - accuracy: 0.8554 - val_loss: 0.3323 - val_accuracy: 0.8542\n",
            "Epoch 4/10\n",
            "391/391 [==============================] - 47s 119ms/step - loss: 0.3189 - accuracy: 0.8626 - val_loss: 0.3431 - val_accuracy: 0.8583\n",
            "Epoch 5/10\n",
            "391/391 [==============================] - 47s 119ms/step - loss: 0.3151 - accuracy: 0.8650 - val_loss: 0.3300 - val_accuracy: 0.8625\n",
            "Epoch 6/10\n",
            "391/391 [==============================] - 46s 118ms/step - loss: 0.3065 - accuracy: 0.8690 - val_loss: 0.3319 - val_accuracy: 0.8443\n",
            "Epoch 7/10\n",
            "391/391 [==============================] - 47s 119ms/step - loss: 0.3057 - accuracy: 0.8694 - val_loss: 0.3274 - val_accuracy: 0.8464\n",
            "Epoch 8/10\n",
            "391/391 [==============================] - 47s 119ms/step - loss: 0.3026 - accuracy: 0.8685 - val_loss: 0.3275 - val_accuracy: 0.8583\n",
            "Epoch 9/10\n",
            "391/391 [==============================] - 47s 120ms/step - loss: 0.3010 - accuracy: 0.8713 - val_loss: 0.3398 - val_accuracy: 0.8625\n",
            "Epoch 10/10\n",
            "391/391 [==============================] - 46s 118ms/step - loss: 0.2974 - accuracy: 0.8714 - val_loss: 0.3258 - val_accuracy: 0.8615\n"
          ]
        }
      ],
      "source": [
        "history = model.fit(train_dataset, epochs=10,\n",
        "  validation_data=test_dataset,\n",
        "  validation_steps=30)"
      ]
    },
    {
      "cell_type": "code",
      "execution_count": 22,
      "metadata": {
        "colab": {
          "base_uri": "https://localhost:8080/"
        },
        "id": "rvPVMR_OtmTh",
        "outputId": "90453296-ae26-4245-8d9e-658fa117ce4c"
      },
      "outputs": [
        {
          "output_type": "stream",
          "name": "stdout",
          "text": [
            "391/391 [==============================] - 19s 48ms/step - loss: 0.3251 - accuracy: 0.8634\n",
            "Test Loss: 0.3251321613788605\n",
            "Test Accuracy: 0.8634399771690369\n"
          ]
        }
      ],
      "source": [
        "test_loss, test_acc = model.evaluate(test_dataset)\n",
        "\n",
        "print('Test Loss:', test_loss)\n",
        "print('Test Accuracy:', test_acc)"
      ]
    },
    {
      "cell_type": "code",
      "execution_count": 23,
      "metadata": {
        "colab": {
          "base_uri": "https://localhost:8080/"
        },
        "id": "HMSPuTudtnvf",
        "outputId": "19893ab7-2d7b-46be-ccb9-2841b6fde4e5"
      },
      "outputs": [
        {
          "output_type": "stream",
          "name": "stdout",
          "text": [
            "1/1 [==============================] - 7s 7s/step\n",
            "[[-1.5445004]]\n"
          ]
        }
      ],
      "source": [
        "# predict on a sample text without padding.\n",
        "\n",
        "sample_text = ('The movie was not good. The animation and the graphics ' 'were terrible. I would not recommend this movie.')\n",
        "predictions = model.predict(np.array([sample_text]))\n",
        "print(predictions)"
      ]
    },
    {
      "cell_type": "code",
      "execution_count": 24,
      "metadata": {
        "colab": {
          "base_uri": "https://localhost:8080/",
          "height": 468
        },
        "id": "xOgbH7MAtpCG",
        "outputId": "59fe9674-17ed-43bb-a009-344748a2b86c"
      },
      "outputs": [
        {
          "output_type": "display_data",
          "data": {
            "text/plain": [
              "<Figure size 1600x600 with 2 Axes>"
            ],
            "image/png": "[encoded data removed]"
          },
          "metadata": {}
        }
      ],
      "source": [
        "plt.figure(figsize=(16, 6))\n",
        "plt.subplot(1, 2, 1)\n",
        "plot_graphs(history, 'accuracy')\n",
        "plt.subplot(1, 2, 2)\n",
        "plot_graphs(history, 'loss')"
      ]
    },
    {
      "cell_type": "markdown",
      "metadata": {
        "id": "YBvSQxaA6jG5"
      },
      "source": [
        "# Praktikum 2 - Generator Teks dengan RNN"
      ]
    },
    {
      "cell_type": "markdown",
      "metadata": {
        "id": "LREFngMu9QHw"
      },
      "source": [
        "## Setup"
      ]
    },
    {
      "cell_type": "code",
      "execution_count": 25,
      "metadata": {
        "colab": {
          "base_uri": "https://localhost:8080/"
        },
        "id": "AnhshUv36oDg",
        "outputId": "b5ad39e4-c099-499c-ffd3-0aa884c88185"
      },
      "outputs": [
        {
          "output_type": "stream",
          "name": "stdout",
          "text": [
            "Downloading data from https://storage.googleapis.com/download.tensorflow.org/data/shakespeare.txt\n",
            "1115394/1115394 [==============================] - 0s 0us/step\n"
          ]
        }
      ],
      "source": [
        "path_to_file = tf.keras.utils.get_file('shakespeare.txt', 'https://storage.googleapis.com/download.tensorflow.org/data/shakespeare.txt')"
      ]
    },
    {
      "cell_type": "code",
      "execution_count": 26,
      "metadata": {
        "id": "XLh2BLfn7nyn",
        "colab": {
          "base_uri": "https://localhost:8080/"
        },
        "outputId": "faeb6752-bff5-4f23-b493-2b742e57a591"
      },
      "outputs": [
        {
          "output_type": "stream",
          "name": "stdout",
          "text": [
            "Drive already mounted at /content/drive; to attempt to forcibly remount, call drive.mount(\"/content/drive\", force_remount=True).\n"
          ]
        }
      ],
      "source": [
        "from google.colab import drive\n",
        "drive.mount('/content/drive')"
      ]
    },
    {
      "cell_type": "code",
      "execution_count": 27,
      "metadata": {
        "id": "FgCmJBIJ9Sgw",
        "colab": {
          "base_uri": "https://localhost:8080/"
        },
        "outputId": "71430e6d-56e9-44c2-c9e2-fc8332ac4c2d"
      },
      "outputs": [
        {
          "output_type": "stream",
          "name": "stdout",
          "text": [
            "Length of text: 1115394 characters\n",
            "First Citizen:\n",
            "Before we proceed any further, hear me speak.\n",
            "\n",
            "All:\n",
            "Speak, speak.\n",
            "\n",
            "First Citizen:\n",
            "You are all resolved rather to die than to famish?\n",
            "\n",
            "All:\n",
            "Resolved. resolved.\n",
            "\n",
            "First Citizen:\n",
            "First, you know Caius Marcius is chief enemy to the people.\n",
            "\n",
            "65 unique characters\n"
          ]
        }
      ],
      "source": [
        "# Read, then decode for py2 compat.\n",
        "text = open(path_to_file, 'rb').read().decode(encoding='utf-8')\n",
        "# length of text is the number of characters in it\n",
        "print(f'Length of text: {len(text)} characters')\n",
        "\n",
        "# Take a look at the first 250 characters in text\n",
        "print(text[:250])\n",
        "\n",
        "# The unique characters in the file\n",
        "vocab = sorted(set(text))\n",
        "print(f'{len(vocab)} unique characters')"
      ]
    },
    {
      "cell_type": "markdown",
      "metadata": {
        "id": "igoLSuO89Zxd"
      },
      "source": [
        "## Olah Teks"
      ]
    },
    {
      "cell_type": "markdown",
      "metadata": {
        "id": "MnIJyPMB9he-"
      },
      "source": [
        "### Vectorize Teks"
      ]
    },
    {
      "cell_type": "code",
      "execution_count": 28,
      "metadata": {
        "id": "fKARmo9p9bQM",
        "colab": {
          "base_uri": "https://localhost:8080/"
        },
        "outputId": "ab10ab8c-abf4-4a35-d28b-8ac3189f115a"
      },
      "outputs": [
        {
          "output_type": "execute_result",
          "data": {
            "text/plain": [
              "<tf.RaggedTensor [[b'a', b'b', b'c', b'd', b'e', b'f', b'g'], [b'x', b'y', b'z']]>"
            ]
          },
          "metadata": {},
          "execution_count": 28
        }
      ],
      "source": [
        "example_texts = ['abcdefg', 'xyz']\n",
        "chars = tf.strings.unicode_split(example_texts, input_encoding='UTF-8')\n",
        "chars"
      ]
    },
    {
      "cell_type": "code",
      "execution_count": 29,
      "metadata": {
        "id": "iflTmBPw9rRc"
      },
      "outputs": [],
      "source": [
        "ids_from_chars = tf.keras.layers.StringLookup(\n",
        "vocabulary=list(vocab), mask_token=None)"
      ]
    },
    {
      "cell_type": "code",
      "execution_count": 30,
      "metadata": {
        "id": "bsR2kpvy9sm_",
        "colab": {
          "base_uri": "https://localhost:8080/"
        },
        "outputId": "f834ed36-a01f-46dd-b4d3-d93bcb19928b"
      },
      "outputs": [
        {
          "output_type": "execute_result",
          "data": {
            "text/plain": [
              "<tf.RaggedTensor [[40, 41, 42, 43, 44, 45, 46], [63, 64, 65]]>"
            ]
          },
          "metadata": {},
          "execution_count": 30
        }
      ],
      "source": [
        "ids = ids_from_chars(chars)\n",
        "ids"
      ]
    },
    {
      "cell_type": "code",
      "execution_count": 31,
      "metadata": {
        "id": "gjjpdhDe-BP3"
      },
      "outputs": [],
      "source": [
        "chars_from_ids = tf.keras.layers.StringLookup(\n",
        "    vocabulary=ids_from_chars.get_vocabulary(), invert=True, mask_token=None)"
      ]
    },
    {
      "cell_type": "code",
      "execution_count": 32,
      "metadata": {
        "id": "EX2ZonKA-DHs",
        "colab": {
          "base_uri": "https://localhost:8080/"
        },
        "outputId": "deac2f14-a357-4232-c21a-5bd23e9f29d8"
      },
      "outputs": [
        {
          "output_type": "execute_result",
          "data": {
            "text/plain": [
              "<tf.RaggedTensor [[b'a', b'b', b'c', b'd', b'e', b'f', b'g'], [b'x', b'y', b'z']]>"
            ]
          },
          "metadata": {},
          "execution_count": 32
        }
      ],
      "source": [
        "chars = chars_from_ids(ids)\n",
        "chars"
      ]
    },
    {
      "cell_type": "code",
      "execution_count": 33,
      "metadata": {
        "id": "5InvBSnl-FKo",
        "colab": {
          "base_uri": "https://localhost:8080/"
        },
        "outputId": "9053d68d-f019-4084-d6ba-564134ea8595"
      },
      "outputs": [
        {
          "output_type": "execute_result",
          "data": {
            "text/plain": [
              "array([b'abcdefg', b'xyz'], dtype=object)"
            ]
          },
          "metadata": {},
          "execution_count": 33
        }
      ],
      "source": [
        "tf.strings.reduce_join(chars, axis=-1).numpy()"
      ]
    },
    {
      "cell_type": "code",
      "execution_count": 34,
      "metadata": {
        "id": "KC-4_Vfa-Gox"
      },
      "outputs": [],
      "source": [
        "def text_from_ids(ids):\n",
        "    return tf.strings.reduce_join(chars_from_ids(ids), axis=-1)"
      ]
    },
    {
      "cell_type": "markdown",
      "metadata": {
        "id": "itowDJ9F-SYs"
      },
      "source": [
        "### Membuat Trianing Set dan Target"
      ]
    },
    {
      "cell_type": "code",
      "execution_count": 35,
      "metadata": {
        "id": "hHkHaMRw-Txh",
        "colab": {
          "base_uri": "https://localhost:8080/"
        },
        "outputId": "58519c40-0188-43d5-e644-5a1105bbada2"
      },
      "outputs": [
        {
          "output_type": "execute_result",
          "data": {
            "text/plain": [
              "<tf.Tensor: shape=(1115394,), dtype=int64, numpy=array([19, 48, 57, ..., 46,  9,  1])>"
            ]
          },
          "metadata": {},
          "execution_count": 35
        }
      ],
      "source": [
        "all_ids = ids_from_chars(tf.strings.unicode_split(text, 'UTF-8'))\n",
        "all_ids"
      ]
    },
    {
      "cell_type": "code",
      "execution_count": 36,
      "metadata": {
        "id": "numzyhW0-cse"
      },
      "outputs": [],
      "source": [
        "ids_dataset = tf.data.Dataset.from_tensor_slices(all_ids)"
      ]
    },
    {
      "cell_type": "code",
      "execution_count": 37,
      "metadata": {
        "id": "R038Kpt1-eTd",
        "colab": {
          "base_uri": "https://localhost:8080/"
        },
        "outputId": "622d4743-4e2e-4a3a-b07a-1c9d058ec9f3"
      },
      "outputs": [
        {
          "output_type": "stream",
          "name": "stdout",
          "text": [
            "F\n",
            "i\n",
            "r\n",
            "s\n",
            "t\n",
            " \n",
            "C\n",
            "i\n",
            "t\n",
            "i\n"
          ]
        }
      ],
      "source": [
        "for ids in ids_dataset.take(10):\n",
        "    print(chars_from_ids(ids).numpy().decode('utf-8'))"
      ]
    },
    {
      "cell_type": "code",
      "execution_count": 38,
      "metadata": {
        "id": "Z1NbYfQc-feD"
      },
      "outputs": [],
      "source": [
        "seq_length = 100"
      ]
    },
    {
      "cell_type": "code",
      "execution_count": 39,
      "metadata": {
        "id": "UAggklT9-g2J",
        "colab": {
          "base_uri": "https://localhost:8080/"
        },
        "outputId": "1c06ce31-1ace-4c41-9496-bdb9383112b0"
      },
      "outputs": [
        {
          "output_type": "stream",
          "name": "stdout",
          "text": [
            "tf.Tensor(\n",
            "[b'F' b'i' b'r' b's' b't' b' ' b'C' b'i' b't' b'i' b'z' b'e' b'n' b':'\n",
            " b'\\n' b'B' b'e' b'f' b'o' b'r' b'e' b' ' b'w' b'e' b' ' b'p' b'r' b'o'\n",
            " b'c' b'e' b'e' b'd' b' ' b'a' b'n' b'y' b' ' b'f' b'u' b'r' b't' b'h'\n",
            " b'e' b'r' b',' b' ' b'h' b'e' b'a' b'r' b' ' b'm' b'e' b' ' b's' b'p'\n",
            " b'e' b'a' b'k' b'.' b'\\n' b'\\n' b'A' b'l' b'l' b':' b'\\n' b'S' b'p' b'e'\n",
            " b'a' b'k' b',' b' ' b's' b'p' b'e' b'a' b'k' b'.' b'\\n' b'\\n' b'F' b'i'\n",
            " b'r' b's' b't' b' ' b'C' b'i' b't' b'i' b'z' b'e' b'n' b':' b'\\n' b'Y'\n",
            " b'o' b'u' b' '], shape=(101,), dtype=string)\n"
          ]
        }
      ],
      "source": [
        "sequences = ids_dataset.batch(seq_length+1, drop_remainder=True)\n",
        "\n",
        "for seq in sequences.take(1):\n",
        "  print(chars_from_ids(seq))"
      ]
    },
    {
      "cell_type": "code",
      "execution_count": 40,
      "metadata": {
        "id": "El2g9Q1y-iAt",
        "colab": {
          "base_uri": "https://localhost:8080/"
        },
        "outputId": "a71441d1-19f5-4b25-e6b1-c626d25f8f7e"
      },
      "outputs": [
        {
          "output_type": "stream",
          "name": "stdout",
          "text": [
            "b'First Citizen:\\nBefore we proceed any further, hear me speak.\\n\\nAll:\\nSpeak, speak.\\n\\nFirst Citizen:\\nYou '\n",
            "b'are all resolved rather to die than to famish?\\n\\nAll:\\nResolved. resolved.\\n\\nFirst Citizen:\\nFirst, you k'\n",
            "b\"now Caius Marcius is chief enemy to the people.\\n\\nAll:\\nWe know't, we know't.\\n\\nFirst Citizen:\\nLet us ki\"\n",
            "b\"ll him, and we'll have corn at our own price.\\nIs't a verdict?\\n\\nAll:\\nNo more talking on't; let it be d\"\n",
            "b'one: away, away!\\n\\nSecond Citizen:\\nOne word, good citizens.\\n\\nFirst Citizen:\\nWe are accounted poor citi'\n"
          ]
        }
      ],
      "source": [
        "for seq in sequences.take(5):\n",
        "    print(text_from_ids(seq).numpy())"
      ]
    },
    {
      "cell_type": "code",
      "execution_count": 41,
      "metadata": {
        "id": "HbdSAcwy-kPw",
        "colab": {
          "base_uri": "https://localhost:8080/"
        },
        "outputId": "68cdc4c9-ed62-4807-bd96-2b8dde49c54c"
      },
      "outputs": [
        {
          "output_type": "stream",
          "name": "stdout",
          "text": [
            "Input : b'First Citizen:\\nBefore we proceed any further, hear me speak.\\n\\nAll:\\nSpeak, speak.\\n\\nFirst Citizen:\\nYou'\n",
            "Target: b'irst Citizen:\\nBefore we proceed any further, hear me speak.\\n\\nAll:\\nSpeak, speak.\\n\\nFirst Citizen:\\nYou '\n"
          ]
        }
      ],
      "source": [
        "def split_input_target(sequence):\n",
        "  input_text = sequence[:-1]\n",
        "  target_text = sequence[1:]\n",
        "  return input_text, target_text\n",
        "\n",
        "split_input_target(list(\"Tensorflow\"))\n",
        "dataset = sequences.map(split_input_target)\n",
        "\n",
        "for input_example, target_example in dataset.take(1):\n",
        "  print(\"Input :\", text_from_ids(input_example).numpy())\n",
        "  print(\"Target:\", text_from_ids(target_example).numpy())"
      ]
    },
    {
      "cell_type": "markdown",
      "metadata": {
        "id": "FLrR-WQY_ENo"
      },
      "source": [
        "### Membuat Batch Training"
      ]
    },
    {
      "cell_type": "code",
      "execution_count": 42,
      "metadata": {
        "id": "hKzmgrfw_HBm",
        "colab": {
          "base_uri": "https://localhost:8080/"
        },
        "outputId": "080a17bb-89a9-42a7-acdc-54eb6b3850c8"
      },
      "outputs": [
        {
          "output_type": "execute_result",
          "data": {
            "text/plain": [
              "<_PrefetchDataset element_spec=(TensorSpec(shape=(64, 100), dtype=tf.int64, name=None), TensorSpec(shape=(64, 100), dtype=tf.int64, name=None))>"
            ]
          },
          "metadata": {},
          "execution_count": 42
        }
      ],
      "source": [
        "# Batch size\n",
        "BATCH_SIZE = 64\n",
        "\n",
        "# Buffer size to shuffle the dataset\n",
        "# (TF data is designed to work with possibly infinite sequences,\n",
        "# so it doesn't attempt to shuffle the entire sequence in memory. Instead,\n",
        "# it maintains a buffer in which it shuffles elements).\n",
        "BUFFER_SIZE = 10000\n",
        "\n",
        "dataset = (\n",
        "    dataset\n",
        "    .shuffle(BUFFER_SIZE)\n",
        "    .batch(BATCH_SIZE, drop_remainder=True)\n",
        "    .prefetch(tf.data.experimental.AUTOTUNE))\n",
        "\n",
        "dataset"
      ]
    },
    {
      "cell_type": "markdown",
      "metadata": {
        "id": "RNJLdeln_Kif"
      },
      "source": [
        "## Buat Model"
      ]
    },
    {
      "cell_type": "code",
      "execution_count": 43,
      "metadata": {
        "id": "JhRuB-Hz_Mfu"
      },
      "outputs": [],
      "source": [
        "# Length of the vocabulary in StringLookup Layer\n",
        "vocab_size = len(ids_from_chars.get_vocabulary())\n",
        "\n",
        "# The embedding dimension\n",
        "embedding_dim = 256\n",
        "\n",
        "# Number of RNN units\n",
        "rnn_units = 1024"
      ]
    },
    {
      "cell_type": "code",
      "execution_count": 44,
      "metadata": {
        "id": "9_yMhdxp_PgP"
      },
      "outputs": [],
      "source": [
        "class MyModel(tf.keras.Model):\n",
        "  def __init__(self, vocab_size, embedding_dim, rnn_units):\n",
        "    super().__init__(self)\n",
        "    self.embedding = tf.keras.layers.Embedding(vocab_size, embedding_dim)\n",
        "    self.gru = tf.keras.layers.GRU(rnn_units,\n",
        "                                   return_sequences=True,\n",
        "                                   return_state=True)\n",
        "    self.dense = tf.keras.layers.Dense(vocab_size)\n",
        "\n",
        "  def call(self, inputs, states=None, return_state=False, training=False):\n",
        "    x = inputs\n",
        "    x = self.embedding(x, training=training)\n",
        "    if states is None:\n",
        "      states = self.gru.get_initial_state(x)\n",
        "    x, states = self.gru(x, initial_state=states, training=training)\n",
        "    x = self.dense(x, training=training)\n",
        "\n",
        "    if return_state:\n",
        "      return x, states\n",
        "    else:\n",
        "      return x"
      ]
    },
    {
      "cell_type": "code",
      "execution_count": 45,
      "metadata": {
        "id": "TidEtGgZ_RBA"
      },
      "outputs": [],
      "source": [
        "model = MyModel(\n",
        "    vocab_size=vocab_size,\n",
        "    embedding_dim=embedding_dim,\n",
        "    rnn_units=rnn_units)"
      ]
    },
    {
      "cell_type": "markdown",
      "metadata": {
        "id": "cLUVN_Ga_Vbn"
      },
      "source": [
        "## Uji Model"
      ]
    },
    {
      "cell_type": "code",
      "execution_count": 46,
      "metadata": {
        "id": "TPSjxPin_XLl",
        "colab": {
          "base_uri": "https://localhost:8080/"
        },
        "outputId": "216786dc-d19c-4c69-c53b-3ed19fbcf1e7"
      },
      "outputs": [
        {
          "output_type": "stream",
          "name": "stdout",
          "text": [
            "(64, 100, 66) # (batch_size, sequence_length, vocab_size)\n"
          ]
        }
      ],
      "source": [
        "for input_example_batch, target_example_batch in dataset.take(1):\n",
        "    example_batch_predictions = model(input_example_batch)\n",
        "    print(example_batch_predictions.shape, \"# (batch_size, sequence_length, vocab_size)\")"
      ]
    },
    {
      "cell_type": "code",
      "execution_count": 47,
      "metadata": {
        "id": "ytnvwCic_baq",
        "colab": {
          "base_uri": "https://localhost:8080/"
        },
        "outputId": "61dc4dce-3d74-490c-d873-f8388b197363"
      },
      "outputs": [
        {
          "output_type": "stream",
          "name": "stdout",
          "text": [
            "Model: \"my_model\"\n",
            "_________________________________________________________________\n",
            " Layer (type)                Output Shape              Param #   \n",
            "=================================================================\n",
            " embedding_2 (Embedding)     multiple                  16896     \n",
            "                                                                 \n",
            " gru (GRU)                   multiple                  3938304   \n",
            "                                                                 \n",
            " dense_4 (Dense)             multiple                  67650     \n",
            "                                                                 \n",
            "=================================================================\n",
            "Total params: 4022850 (15.35 MB)\n",
            "Trainable params: 4022850 (15.35 MB)\n",
            "Non-trainable params: 0 (0.00 Byte)\n",
            "_________________________________________________________________\n"
          ]
        }
      ],
      "source": [
        "model.summary()"
      ]
    },
    {
      "cell_type": "code",
      "execution_count": 48,
      "metadata": {
        "id": "a2k-w2Tf_bRJ",
        "colab": {
          "base_uri": "https://localhost:8080/"
        },
        "outputId": "2d360cdd-4530-48a0-bc0f-1c331c4dab93"
      },
      "outputs": [
        {
          "output_type": "execute_result",
          "data": {
            "text/plain": [
              "array([45, 21, 38, 27, 23, 25, 35, 57,  4, 33, 38, 33, 59, 25, 21, 20, 64,\n",
              "       25, 31, 32, 37, 54, 36, 42,  9, 62, 21, 27, 43,  7, 29,  8,  4, 24,\n",
              "       28, 48, 59,  5, 39,  2, 21, 21,  7, 57, 37, 62, 58,  5, 25, 23, 24,\n",
              "       61, 61,  2, 42, 49, 58, 39, 64, 17, 36, 43,  8, 27, 36, 55, 19,  5,\n",
              "       28, 44, 51,  2, 16, 56, 37, 61,  7,  2, 37, 55, 58, 55, 65,  9, 46,\n",
              "       38, 18, 63, 30, 20, 19, 20, 43, 57, 56, 17, 41, 36, 48, 27])"
            ]
          },
          "metadata": {},
          "execution_count": 48
        }
      ],
      "source": [
        "sampled_indices = tf.random.categorical(example_batch_predictions[0], num_samples=1)\n",
        "sampled_indices = tf.squeeze(sampled_indices, axis=-1).numpy()\n",
        "\n",
        "sampled_indices"
      ]
    },
    {
      "cell_type": "code",
      "execution_count": 49,
      "metadata": {
        "id": "SwWhnB0G_g4t",
        "colab": {
          "base_uri": "https://localhost:8080/"
        },
        "outputId": "d4ebae21-0cfa-4790-b17e-029eec915a43"
      },
      "outputs": [
        {
          "output_type": "stream",
          "name": "stdout",
          "text": [
            "Input:\n",
            " b\"Henry the Fourth by conquest got the crown.\\n\\nYORK:\\n'Twas by rebellion against his king.\\n\\nKING HENRY \"\n",
            "\n",
            "Next Char Predictions:\n",
            " b'fHYNJLVr$TYTtLHGyLRSXoWc.wHNd,P-$KOit&Z HH,rXws&LJKvv cjsZyDWd-NWpF&Oel CqXv, Xpspz.gYExQGFGdrqDbWiN'\n"
          ]
        }
      ],
      "source": [
        "print(\"Input:\\n\", text_from_ids(input_example_batch[0]).numpy())\n",
        "print()\n",
        "print(\"Next Char Predictions:\\n\", text_from_ids(sampled_indices).numpy())"
      ]
    },
    {
      "cell_type": "markdown",
      "metadata": {
        "id": "AR3YKcB1Asbi"
      },
      "source": [
        "## Train Model"
      ]
    },
    {
      "cell_type": "markdown",
      "metadata": {
        "id": "vS-B7XOhAvxt"
      },
      "source": [
        "### Tambahan optimizer dan fungsi loss"
      ]
    },
    {
      "cell_type": "code",
      "execution_count": 50,
      "metadata": {
        "id": "eJMvwzoTAtoN"
      },
      "outputs": [],
      "source": [
        "loss = tf.losses.SparseCategoricalCrossentropy(from_logits=True)"
      ]
    },
    {
      "cell_type": "code",
      "execution_count": 51,
      "metadata": {
        "id": "Xe0XGR7_BJvk",
        "colab": {
          "base_uri": "https://localhost:8080/"
        },
        "outputId": "ed57ae47-2a74-424f-d15a-8397d0bc1a49"
      },
      "outputs": [
        {
          "output_type": "stream",
          "name": "stdout",
          "text": [
            "Prediction shape:  (64, 100, 66)  # (batch_size, sequence_length, vocab_size)\n",
            "Mean loss:         tf.Tensor(4.1908283, shape=(), dtype=float32)\n"
          ]
        }
      ],
      "source": [
        "example_batch_mean_loss = loss(target_example_batch, example_batch_predictions)\n",
        "print(\"Prediction shape: \", example_batch_predictions.shape, \" # (batch_size, sequence_length, vocab_size)\")\n",
        "print(\"Mean loss:        \", example_batch_mean_loss)"
      ]
    },
    {
      "cell_type": "code",
      "execution_count": 52,
      "metadata": {
        "id": "uOKwnelKBMKd",
        "colab": {
          "base_uri": "https://localhost:8080/"
        },
        "outputId": "80855fe1-a51d-4505-d9f9-c785ab2202d4"
      },
      "outputs": [
        {
          "output_type": "execute_result",
          "data": {
            "text/plain": [
              "66.0775"
            ]
          },
          "metadata": {},
          "execution_count": 52
        }
      ],
      "source": [
        "tf.exp(example_batch_mean_loss).numpy()"
      ]
    },
    {
      "cell_type": "code",
      "execution_count": 53,
      "metadata": {
        "id": "8QTmEyd4BNjq"
      },
      "outputs": [],
      "source": [
        "model.compile(optimizer='adam', loss=loss)"
      ]
    },
    {
      "cell_type": "markdown",
      "metadata": {
        "id": "SN4qux6RBPrz"
      },
      "source": [
        "### Konfigurasi Checkpoints"
      ]
    },
    {
      "cell_type": "code",
      "execution_count": 54,
      "metadata": {
        "id": "8hkVTRN-BQ-5"
      },
      "outputs": [],
      "source": [
        "# Directory where the checkpoints will be saved\n",
        "checkpoint_dir = './training_checkpoints'\n",
        "\n",
        "# Name of the checkpoint files\n",
        "checkpoint_prefix = os.path.join(checkpoint_dir, \"ckpt_{epoch}\")\n",
        "\n",
        "checkpoint_callback = tf.keras.callbacks.ModelCheckpoint(\n",
        "    filepath=checkpoint_prefix,\n",
        "    save_weights_only=True)"
      ]
    },
    {
      "cell_type": "markdown",
      "metadata": {
        "id": "7vN2ni5rBUc5"
      },
      "source": [
        "### Lakukan Proses Training"
      ]
    },
    {
      "cell_type": "code",
      "execution_count": 55,
      "metadata": {
        "id": "8Ag_BEA5BXW6",
        "colab": {
          "base_uri": "https://localhost:8080/"
        },
        "outputId": "6b5dca78-2972-4d15-c150-d7881049831b"
      },
      "outputs": [
        {
          "output_type": "stream",
          "name": "stdout",
          "text": [
            "Epoch 1/20\n",
            "172/172 [==============================] - 15s 65ms/step - loss: 2.7267\n",
            "Epoch 2/20\n",
            "172/172 [==============================] - 12s 61ms/step - loss: 1.9922\n",
            "Epoch 3/20\n",
            "172/172 [==============================] - 12s 62ms/step - loss: 1.7122\n",
            "Epoch 4/20\n",
            "172/172 [==============================] - 13s 61ms/step - loss: 1.5496\n",
            "Epoch 5/20\n",
            "172/172 [==============================] - 12s 59ms/step - loss: 1.4493\n",
            "Epoch 6/20\n",
            "172/172 [==============================] - 12s 61ms/step - loss: 1.3824\n",
            "Epoch 7/20\n",
            "172/172 [==============================] - 12s 61ms/step - loss: 1.3299\n",
            "Epoch 8/20\n",
            "172/172 [==============================] - 12s 61ms/step - loss: 1.2846\n",
            "Epoch 9/20\n",
            "172/172 [==============================] - 12s 61ms/step - loss: 1.2437\n",
            "Epoch 10/20\n",
            "172/172 [==============================] - 12s 61ms/step - loss: 1.2037\n",
            "Epoch 11/20\n",
            "172/172 [==============================] - 12s 62ms/step - loss: 1.1636\n",
            "Epoch 12/20\n",
            "172/172 [==============================] - 13s 61ms/step - loss: 1.1213\n",
            "Epoch 13/20\n",
            "172/172 [==============================] - 12s 61ms/step - loss: 1.0781\n",
            "Epoch 14/20\n",
            "172/172 [==============================] - 12s 62ms/step - loss: 1.0314\n",
            "Epoch 15/20\n",
            "172/172 [==============================] - 14s 61ms/step - loss: 0.9822\n",
            "Epoch 16/20\n",
            "172/172 [==============================] - 14s 61ms/step - loss: 0.9300\n",
            "Epoch 17/20\n",
            "172/172 [==============================] - 12s 61ms/step - loss: 0.8786\n",
            "Epoch 18/20\n",
            "172/172 [==============================] - 12s 61ms/step - loss: 0.8267\n",
            "Epoch 19/20\n",
            "172/172 [==============================] - 12s 61ms/step - loss: 0.7744\n",
            "Epoch 20/20\n",
            "172/172 [==============================] - 12s 61ms/step - loss: 0.7237\n"
          ]
        }
      ],
      "source": [
        "EPOCHS = 20\n",
        "history = model.fit(dataset, epochs=EPOCHS, callbacks=[checkpoint_callback])"
      ]
    },
    {
      "cell_type": "markdown",
      "metadata": {
        "id": "xVJlEzjyBazZ"
      },
      "source": [
        "## Generate Teks"
      ]
    },
    {
      "cell_type": "code",
      "execution_count": 56,
      "metadata": {
        "id": "JdrbQfaBBdYa"
      },
      "outputs": [],
      "source": [
        "class OneStep(tf.keras.Model):\n",
        "  def __init__(self, model, chars_from_ids, ids_from_chars, temperature=1.0):\n",
        "    super().__init__()\n",
        "    self.temperature = temperature\n",
        "    self.model = model\n",
        "    self.chars_from_ids = chars_from_ids\n",
        "    self.ids_from_chars = ids_from_chars\n",
        "\n",
        "    # Create a mask to prevent \"[UNK]\" from being generated.\n",
        "    skip_ids = self.ids_from_chars(['[UNK]'])[:, None]\n",
        "    sparse_mask = tf.SparseTensor(\n",
        "        # Put a -inf at each bad index.\n",
        "        values=[-float('inf')]*len(skip_ids),\n",
        "        indices=skip_ids,\n",
        "        # Match the shape to the vocabulary\n",
        "        dense_shape=[len(ids_from_chars.get_vocabulary())])\n",
        "    self.prediction_mask = tf.sparse.to_dense(sparse_mask)\n",
        "\n",
        "  @tf.function\n",
        "  def generate_one_step(self, inputs, states=None):\n",
        "    # Convert strings to token IDs.\n",
        "    input_chars = tf.strings.unicode_split(inputs, 'UTF-8')\n",
        "    input_ids = self.ids_from_chars(input_chars).to_tensor()\n",
        "\n",
        "    # Run the model.\n",
        "    # predicted_logits.shape is [batch, char, next_char_logits]\n",
        "    predicted_logits, states = self.model(inputs=input_ids, states=states,\n",
        "                                          return_state=True)\n",
        "    # Only use the last prediction.\n",
        "    predicted_logits = predicted_logits[:, -1, :]\n",
        "    predicted_logits = predicted_logits/self.temperature\n",
        "    # Apply the prediction mask: prevent \"[UNK]\" from being generated.\n",
        "    predicted_logits = predicted_logits + self.prediction_mask\n",
        "\n",
        "    # Sample the output logits to generate token IDs.\n",
        "    predicted_ids = tf.random.categorical(predicted_logits, num_samples=1)\n",
        "    predicted_ids = tf.squeeze(predicted_ids, axis=-1)\n",
        "\n",
        "    # Convert from token ids to characters\n",
        "    predicted_chars = self.chars_from_ids(predicted_ids)\n",
        "\n",
        "    # Return the characters and model state.\n",
        "    return predicted_chars, states"
      ]
    },
    {
      "cell_type": "code",
      "execution_count": 57,
      "metadata": {
        "id": "QNp9iqoxBfqJ"
      },
      "outputs": [],
      "source": [
        "one_step_model = OneStep(model, chars_from_ids, ids_from_chars)"
      ]
    },
    {
      "cell_type": "code",
      "execution_count": 58,
      "metadata": {
        "id": "1bml3Cs3Bg-D",
        "colab": {
          "base_uri": "https://localhost:8080/"
        },
        "outputId": "a2de40ba-20e8-4853-8b95-4cafe3538ab8"
      },
      "outputs": [
        {
          "output_type": "stream",
          "name": "stdout",
          "text": [
            "ROMEO:\n",
            "Then marry water, his conscenerate corn!\n",
            "This was my nailst thing; and so formil;\n",
            "But then, my son's regar before heaven should be\n",
            "content.\n",
            "\n",
            "ROMEO:\n",
            "Then this is a Caltain lives. Down with the\n",
            "swear-strange not with the storms of Rome, I had been down,\n",
            "And be in many hours by calaming to\n",
            "his reposed. Be that am not\n",
            "Laugh'd thy all as a looker on.\n",
            "\n",
            "ESCALUS:\n",
            "He had serves i' Short, and have no blood at Pomfret,\n",
            "Dost thou tell me thy chastisame nor garland:\n",
            "Had I by the love I being born about thy fool,\n",
            "hies sick, those thy faults were chrispend of night\n",
            "Shall write and take on very dridged happiness.\n",
            "\n",
            "ROMEO:\n",
            "Sir, to go about to testimon.\n",
            "Come, go with me, and if I wear by this.\n",
            "\n",
            "Third Watchman:\n",
            "O thinking-swey you to this preserving\n",
            "should be dissequeit to your own.\n",
            "\n",
            "KING HENRY VI:\n",
            "Are Loidnoons are slain my shadew and thunderfully.\n",
            "It is the least. How soon I see the heart by joint\n",
            "And set their yielding of his native service: the\n",
            "singeroo lecter: take not only nor means:\n",
            "Though it be p \n",
            "\n",
            "________________________________________________________________________________\n",
            "\n",
            "Run time: 3.3061020374298096\n"
          ]
        }
      ],
      "source": [
        "start = time.time()\n",
        "states = None\n",
        "next_char = tf.constant(['ROMEO:'])\n",
        "result = [next_char]\n",
        "\n",
        "for n in range(1000):\n",
        "  next_char, states = one_step_model.generate_one_step(next_char, states=states)\n",
        "  result.append(next_char)\n",
        "\n",
        "result = tf.strings.join(result)\n",
        "end = time.time()\n",
        "print(result[0].numpy().decode('utf-8'), '\\n\\n' + '_'*80)\n",
        "print('\\nRun time:', end - start)"
      ]
    },
    {
      "cell_type": "code",
      "execution_count": 59,
      "metadata": {
        "id": "1sM-gjvUBiec",
        "colab": {
          "base_uri": "https://localhost:8080/"
        },
        "outputId": "242aac28-f1b4-4737-b83c-342229adfe8e"
      },
      "outputs": [
        {
          "output_type": "stream",
          "name": "stdout",
          "text": [
            "tf.Tensor(\n",
            "[b\"ROMEO:\\nGood mortal men, you not remain,\\nBut, such as e'er was bet us to claim upon't\\nWhat is not ignorant: if beasts so longly token!\\n\\nKING HENRY VI:\\nHad I behively in a world of myself?\\n\\nDUCHESS Kate, 'twas nothing to too heaven; and hast thou old the\\nbutterly; thou'rt it possible,\\nTo sink it is to known the younger free dishonour:\\nPretty inheritance, heaven merisure,\\nShall watch your brother by thain earth.\\n\\nClown:\\nI am glar he's come to know a word.\\n\\nCAPULET:\\nNo, not a word: he has holpide to besiegh at mine.\\n\\nMIRANDA:\\nLet them gold in fear.\\n3 KING HENRY VI\\n\\nGLOUCESTER:\\nNear me not, by your own; you know not where;\\nThere is my head born boy.\\nOf what my father, Prince Florizel,\\nSole jount to let him joy!\\nWe do laid in you, only so often it meduband,\\nWhen guessly abtory to speed it in\\nthe happy man? Between thyself and will\\nThis feat cried 'montaginging thou didst prove more length.\\n\\nHENRY BOLINGBROKE:\\nNay, tradities and my morrows name is to reliefe;\\nThe ambusion of such joints which point\"\n",
            " b\"ROMEO:\\nThat heaven for him! You may.\\n\\nPETRUCHIO:\\nHow! the goddens good father, I have singled thee\\nAs from his comfort in the world no round:\\nI'll do in such a glory of resire.\\n\\nLUCIO:\\nProphes, thou lovest me, poor, I'll find usurps'd her.\\nA world this west to thee and these thy\\nsounds, the base having brought by thy son's,\\nAs a locking girtenus: sometimes Kate begun,\\nBut to her honour and but fortune you are\\nByral't, 'tis boot of banish'd from the king,\\nKate of bending confusion, heaven sits,\\nconsidering the honour of my power.\\n3 KING HENRY VI\\n\\nWARWICK:\\nWhy then so smiles in out to trust my brother, boy?\\nBehold this hour shall write of wretched\\nThan this preservation,\\nNever take the univers in the nair of time,\\nLike pleasant, child, hast her runagot, we'll\\nDo their grieves upon thy friend.\\nAs very well-meantf shall Warwick\\nAnd hither cannot tell thee many, let him that\\nWarwick called knocks to draw thy forces upon a\\nparron,--my lord,\\nAgainst my lord will edge on charge.\\n\\nADRIAN:\\n'Hickingly'\"\n",
            " b\"ROMEO:\\nO, my comfort. What! I say, Glented our thanks,\\nLeave in his father to himself,\\nAnd so is lost a breath, you quickly know not what:\\nFoot sweet looks sanctuary.\\n\\nSecond Servingman:\\nWhere are thy humbleman is happily stops,\\nMy humours and as rivarding person.\\n\\nHERMIONE:\\nYea not in\\nmine own.\\n\\nGREMIO:\\nHark, Petruchio! Tranio, begins love and liberty.\\n\\nKING HENRY VI:\\nHark op no fortune, to thrive. Villains!\\nEven so; why steal, good Cantage?\\n\\nNORTHUMBERLAND:\\nRichorm, thou wilt be the jest a little more\\nThan the mother trembling woe.\\n\\nKING HENRY VI:\\nSo curs it at your children's buttster:\\nGod save yourselves worse than a notaing and books;\\nCheer'd us by day and brooch in the turtle with the\\nshear, I twenty-horse doth pardon my summon\\nEre I'll tell you to prison, only light now.\\n\\nPETRUCHIO:\\n'Tis nothing but for one: good morrow, neighbour Gault and brain:\\nLet him 'tis pity sometime King of Graces: he\\nhath been his policy.\\n\\nBUCKINGHAM:\\nThen call both my proper stands, my services was befit\\nmy \"\n",
            " b\"ROMEO:\\nWhy, that was when most incertent with words.\\n\\nGaild Fromn'NLUMI:\\nBelike shall kneel for prayers 'pardon'd. I am son\\nfor that the body good, as he, his sword in hate:\\nBid him I vent thou that waves what fast worthily\\nAccount my name with many good\\nAs to thy arms: but what my house is sorrow,\\nAnd stop all with their legs ta'en; cabbiting and on thy sheeps\\nThat trembles unto his wife; you know upon conjures,\\nso long as his royal precips of a cruel upon't\\nOf, take it in delay death.\\n\\nSherave:\\nI hear the banish' stay doth here. Ouficious Margaret!\\nEarth of our a bard.\\n\\nLAUDINAND:\\nO, shall I not be?\\n\\nSAMPSON:\\nLet them good father, I say you see than he\\npites clear in dubb, sir.\\n\\nCAMILLO:\\nUnless always; then I.\\n\\nSTYerer:\\nHo, not the tark true, think what thy shame\\nAs high prosperous and fools would sleep on you: all threes\\nWhich centuring ten times with terror;\\nBut Margaret my command, presented,\\nAnd harkly to encounter mine,\\nIn carting well-broken drops. By your\\naptentroming power, it shou\"\n",
            " b\"ROMEO:\\nSweet lady, go; for you and duty, and as money,\\nIf e'er again, but if so bound it\\nPerforce what they will complain on't.\\n\\nCLEOMENES:\\nOn! thou didst venge thyself.\\n\\nGLOUCESTER:\\nEver disobedience against a very brother chamber.\\nUncle, your grace comide in joyn;\\nAnd monarch'd lovers' queen and wail,\\nThe vallent man that late aslised, something\\ncannot rise an irolix thought and brought to fear.\\nGood night.\\n\\nThird Servingman:\\nDost grieve me up, the people.\\n\\nClown:\\nOut it presently, fortune but myself a\\nfartelf than Honget from his steal, who told most kissing\\nFor though not take in gentle-perfome a wedding-grace:\\nAnd the notion of the nobler worst, hope,\\nMy mother rather know, my heart, the ground shrubb'd this land:\\nThe noble Edemis farmer to the king,\\nAnd blame thy malice have in deceit.\\nI will resign uncle Gloucester's death.\\n\\nLUCENTIO:\\nWell getting a worthy flies, thereof so sturb.\\n\\nHASTINGS:\\nWhy, that an honest fortune I have, my Death. Thou speak'st,\\nThy brother's pardon,--for that l\"], shape=(5,), dtype=string) \n",
            "\n",
            "________________________________________________________________________________\n",
            "\n",
            "Run time: 3.257309675216675\n"
          ]
        }
      ],
      "source": [
        "start = time.time()\n",
        "states = None\n",
        "next_char = tf.constant(['ROMEO:', 'ROMEO:', 'ROMEO:', 'ROMEO:', 'ROMEO:'])\n",
        "result = [next_char]\n",
        "\n",
        "for n in range(1000):\n",
        "  next_char, states = one_step_model.generate_one_step(next_char, states=states)\n",
        "  result.append(next_char)\n",
        "\n",
        "result = tf.strings.join(result)\n",
        "end = time.time()\n",
        "print(result, '\\n\\n' + '_'*80)\n",
        "print('\\nRun time:', end - start)"
      ]
    },
    {
      "cell_type": "markdown",
      "metadata": {
        "id": "bMwnTKNEB2a5"
      },
      "source": [
        "## Ekspor Model Generator"
      ]
    },
    {
      "cell_type": "code",
      "execution_count": 60,
      "metadata": {
        "id": "yyLX_VwFBmbS",
        "colab": {
          "base_uri": "https://localhost:8080/"
        },
        "outputId": "0233c428-52a0-40b9-c3d6-548f93d0c144"
      },
      "outputs": [
        {
          "output_type": "stream",
          "name": "stderr",
          "text": [
            "WARNING:tensorflow:Skipping full serialization of Keras layer <__main__.OneStep object at 0x7f2968a80460>, because it is not built.\n",
            "WARNING:tensorflow:Model's `__init__()` arguments contain non-serializable objects. Please implement a `get_config()` method in the subclassed Model for proper saving and loading. Defaulting to empty config.\n",
            "WARNING:tensorflow:Model's `__init__()` arguments contain non-serializable objects. Please implement a `get_config()` method in the subclassed Model for proper saving and loading. Defaulting to empty config.\n"
          ]
        }
      ],
      "source": [
        "tf.saved_model.save(one_step_model, 'one_step')\n",
        "one_step_reloaded = tf.saved_model.load('one_step')"
      ]
    },
    {
      "cell_type": "code",
      "execution_count": 61,
      "metadata": {
        "id": "0G8FZ81EB7Ae",
        "colab": {
          "base_uri": "https://localhost:8080/"
        },
        "outputId": "1cd855a5-8b98-4fc5-cd33-569671830e75"
      },
      "outputs": [
        {
          "output_type": "stream",
          "name": "stdout",
          "text": [
            "ROMEO:\n",
            "Let that barron like most swallow with these crides\n",
            "To try harm muster on the key.\n",
            "\n",
            "EXETER:\n",
            "And Sti\n"
          ]
        }
      ],
      "source": [
        "states = None\n",
        "next_char = tf.constant(['ROMEO:'])\n",
        "result = [next_char]\n",
        "\n",
        "for n in range(100):\n",
        "  next_char, states = one_step_reloaded.generate_one_step(next_char, states=states)\n",
        "  result.append(next_char)\n",
        "\n",
        "print(tf.strings.join(result)[0].numpy().decode(\"utf-8\"))"
      ]
    },
    {
      "cell_type": "markdown",
      "metadata": {
        "id": "BfmaqgSvDuHx"
      },
      "source": [
        "# Tugas"
      ]
    },
    {
      "cell_type": "code",
      "execution_count": 62,
      "metadata": {
        "id": "zVl9UJZMDtbI"
      },
      "outputs": [],
      "source": [
        "# mendefinisikan kelas CustomTraining yang merupakan turunan dari model MyModel.\n",
        "class CustomTraining(MyModel):\n",
        "   # mengompilasi metode train_step menjadi sebuah graph TensorFlow, meningkatkan kinerja dan efisiensi dalam pelatihan model.\n",
        "  @tf.function\n",
        "  # melatih model selama satu langkah pelatihan.\n",
        "  # Metode ini menerima input dalam bentuk pasangan (inputs, labels).\n",
        "  def train_step(self, inputs):\n",
        "   # mendekomposisi input menjadi inputs dan labels, yang mengandung data input dan label yang sesuai\n",
        "      inputs, labels = inputs\n",
        "      # menggunakan tf.GradientTape untuk melacak perhitungan dalam metode ini untuk menghitung gradien loss terhadap parameter-model.\n",
        "      with tf.GradientTape() as tape:\n",
        "         # menghitung prediksi model dengan memanggil metode self(inputs, training=True).\n",
        "         predictions = self(inputs, training=True)\n",
        "         # menghitung loss model dengan memanggil metode self.loss dengan labels dan predictions sebagai argumen.\n",
        "         loss = self.loss(labels, predictions)\n",
        "      # menghitung gradien loss terhadap parameter-model dengan menggunakan tape yang telah DIbuat sebelumnya.\n",
        "      grads = tape.gradient(loss, model.trainable_variables)\n",
        "      # menerapkan gradien ke parameter-model menggunakan optimizer yang telah DIkonfigurasikan sebelumnya.\n",
        "      self.optimizer.apply_gradients(zip(grads, model.trainable_variables))\n",
        "      # mengembalikan dictionary yang berisi loss sebagai metrik yang dapat digunakan untuk memantau performa pelatihan.\n",
        "      return {'loss': loss}"
      ]
    },
    {
      "cell_type": "code",
      "execution_count": 63,
      "metadata": {
        "id": "iNYycmvC0Jlp"
      },
      "outputs": [],
      "source": [
        "# Model ini akan digunakan untuk pelatihan dengan logika pelatihan yang telah DIdefinisikan dalam metode train_step yang khusus.\n",
        "model = CustomTraining(\n",
        "    vocab_size=len(ids_from_chars.get_vocabulary()),\n",
        "    embedding_dim=embedding_dim,\n",
        "    rnn_units=rnn_units)"
      ]
    },
    {
      "cell_type": "code",
      "execution_count": 64,
      "metadata": {
        "id": "yGHU-LAz0Nfp"
      },
      "outputs": [],
      "source": [
        "# mengonfigurasi model untuk pelatihan dengan menggunakan optimizer Adam dan loss function Sparse Categorical Crossentropy.\n",
        "model.compile(optimizer = tf.keras.optimizers.Adam(),\n",
        "             loss=tf.keras.losses.SparseCategoricalCrossentropy(from_logits=True))"
      ]
    },
    {
      "cell_type": "code",
      "execution_count": 65,
      "metadata": {
        "id": "GowGx2FZ0PTi",
        "colab": {
          "base_uri": "https://localhost:8080/"
        },
        "outputId": "b6d7e1f9-f5b3-40ca-e8a6-ce7aa9f0d553"
      },
      "outputs": [
        {
          "output_type": "stream",
          "name": "stdout",
          "text": [
            "172/172 [==============================] - 16s 61ms/step - loss: 2.6892\n"
          ]
        },
        {
          "output_type": "execute_result",
          "data": {
            "text/plain": [
              "<keras.src.callbacks.History at 0x7f2969733160>"
            ]
          },
          "metadata": {},
          "execution_count": 65
        }
      ],
      "source": [
        "# memanggil metode fit pada model Anda untuk melatih model dengan dataset yang DIberikan selama 1 epoch.\n",
        "model.fit(dataset, epochs=1)"
      ]
    },
    {
      "cell_type": "code",
      "execution_count": 66,
      "metadata": {
        "id": "1A3EVSW20R9S",
        "colab": {
          "base_uri": "https://localhost:8080/"
        },
        "outputId": "c7174710-6883-4845-b1bb-a928a1847b2a"
      },
      "outputs": [
        {
          "output_type": "stream",
          "name": "stdout",
          "text": [
            "Epoch 1 Batch 0 Loss 2.1757\n",
            "Epoch 1 Batch 50 Loss 2.0299\n",
            "Epoch 1 Batch 100 Loss 1.9111\n",
            "Epoch 1 Batch 150 Loss 1.8557\n",
            "\n",
            "Epoch 1 Loss: 1.9710\n",
            "Time taken for 1 epoch 13.80 sec\n",
            "________________________________________________________________________________\n",
            "Epoch 2 Batch 0 Loss 1.8338\n",
            "Epoch 2 Batch 50 Loss 1.7413\n",
            "Epoch 2 Batch 100 Loss 1.6672\n",
            "Epoch 2 Batch 150 Loss 1.6271\n",
            "\n",
            "Epoch 2 Loss: 1.6956\n",
            "Time taken for 1 epoch 12.06 sec\n",
            "________________________________________________________________________________\n",
            "Epoch 3 Batch 0 Loss 1.6014\n",
            "Epoch 3 Batch 50 Loss 1.5459\n",
            "Epoch 3 Batch 100 Loss 1.5045\n",
            "Epoch 3 Batch 150 Loss 1.4966\n",
            "\n",
            "Epoch 3 Loss: 1.5370\n",
            "Time taken for 1 epoch 20.47 sec\n",
            "________________________________________________________________________________\n",
            "Epoch 4 Batch 0 Loss 1.4925\n",
            "Epoch 4 Batch 50 Loss 1.4956\n",
            "Epoch 4 Batch 100 Loss 1.3857\n",
            "Epoch 4 Batch 150 Loss 1.4054\n",
            "\n",
            "Epoch 4 Loss: 1.4414\n",
            "Time taken for 1 epoch 11.45 sec\n",
            "________________________________________________________________________________\n",
            "Epoch 5 Batch 0 Loss 1.3410\n",
            "Epoch 5 Batch 50 Loss 1.3888\n",
            "Epoch 5 Batch 100 Loss 1.3958\n",
            "Epoch 5 Batch 150 Loss 1.3477\n",
            "\n",
            "Epoch 5 Loss: 1.3747\n",
            "Time taken for 1 epoch 11.86 sec\n",
            "________________________________________________________________________________\n",
            "Epoch 6 Batch 0 Loss 1.3103\n",
            "Epoch 6 Batch 50 Loss 1.2889\n",
            "Epoch 6 Batch 100 Loss 1.2990\n",
            "Epoch 6 Batch 150 Loss 1.2861\n",
            "\n",
            "Epoch 6 Loss: 1.3234\n",
            "Time taken for 1 epoch 20.47 sec\n",
            "________________________________________________________________________________\n",
            "Epoch 7 Batch 0 Loss 1.3109\n",
            "Epoch 7 Batch 50 Loss 1.2751\n",
            "Epoch 7 Batch 100 Loss 1.2470\n",
            "Epoch 7 Batch 150 Loss 1.2534\n",
            "\n",
            "Epoch 7 Loss: 1.2770\n",
            "Time taken for 1 epoch 11.75 sec\n",
            "________________________________________________________________________________\n",
            "Epoch 8 Batch 0 Loss 1.1932\n",
            "Epoch 8 Batch 50 Loss 1.2410\n",
            "Epoch 8 Batch 100 Loss 1.2089\n",
            "Epoch 8 Batch 150 Loss 1.2324\n",
            "\n",
            "Epoch 8 Loss: 1.2365\n",
            "Time taken for 1 epoch 11.87 sec\n",
            "________________________________________________________________________________\n",
            "Epoch 9 Batch 0 Loss 1.1798\n",
            "Epoch 9 Batch 50 Loss 1.1801\n",
            "Epoch 9 Batch 100 Loss 1.2108\n",
            "Epoch 9 Batch 150 Loss 1.1939\n",
            "\n",
            "Epoch 9 Loss: 1.1952\n",
            "Time taken for 1 epoch 13.22 sec\n",
            "________________________________________________________________________________\n",
            "Epoch 10 Batch 0 Loss 1.1285\n",
            "Epoch 10 Batch 50 Loss 1.1184\n",
            "Epoch 10 Batch 100 Loss 1.1771\n",
            "Epoch 10 Batch 150 Loss 1.1789\n",
            "\n",
            "Epoch 10 Loss: 1.1535\n",
            "Time taken for 1 epoch 13.27 sec\n",
            "________________________________________________________________________________\n"
          ]
        }
      ],
      "source": [
        "EPOCHS = 10\n",
        "\n",
        "# digunakan untuk menghitung rata-rata loss selama pelatihan.\n",
        "mean = tf.metrics.Mean()\n",
        "\n",
        "# melakukan loop sebanyak EPOCHS (dalam hal ini, 10 epoch).\n",
        "for epoch in range(EPOCHS):\n",
        "    start = time.time()\n",
        "\n",
        "    # mengatur ulang state rata-rata loss dengan mean.reset_states().\n",
        "    mean.reset_states()\n",
        "    # memanggil model.train_step([inp, target]) untuk melatih model dengan satu batch data.\n",
        "    # mengupdate rata-rata loss dengan memanggil mean.update_state(logs['loss']).\n",
        "    for (batch_n, (inp, target)) in enumerate(dataset):\n",
        "        logs = model.train_step([inp, target])\n",
        "        mean.update_state(logs['loss'])\n",
        "\n",
        "        # setiap 50 batch, mencetak informasi seperti nomor epoch, nomor batch, dan loss batch yang dihitung\n",
        "        if batch_n % 50 == 0:\n",
        "            template = f\"Epoch {epoch+1} Batch {batch_n} Loss {logs['loss']:.4f}\"\n",
        "            print(template)\n",
        "\n",
        "    # saving (checkpoint) the model every 5 epochs\n",
        "    if (epoch + 1) % 5 == 0:\n",
        "       model.save_weights(checkpoint_prefix.format(epoch=epoch))\n",
        "\n",
        "    # mencetak rata-rata loss selama epoch tersebut, waktu yang diperlukan untuk satu epoch, dan garis pembatas.\n",
        "    print()\n",
        "    print(f'Epoch {epoch+1} Loss: {mean.result().numpy():.4f}')\n",
        "    print(f'Time taken for 1 epoch {time.time() - start:.2f} sec')\n",
        "    print(\"_\"*80)"
      ]
    },
    {
      "cell_type": "markdown",
      "source": [
        "## Perbedaan Dengan Praktikum 2"
      ],
      "metadata": {
        "id": "_rvzdiImqj8y"
      }
    },
    {
      "cell_type": "markdown",
      "source": [
        "Kode yang digunakan menggunakan model TensorFlow, terutama dalam menghasilkan teks yang mirip dengan tulisan Shakespeare. Kode ini memeiliki beberapa perbedaan dengan praktikum 2\n",
        "\n",
        "Model yang digunakan: pada praktikum menggunakan model MyModel dimana model\n",
        "Bahasa rekrusif sederhana dengan satu lapisan GRU, sedangkan model tugas menggunakan kelas CustomTraining yang menurunkan MyModel dimana menentukan langkah pelatihan kustom dengan penggunaan tf.function.\n",
        "\n",
        "Proses Pelatihan: pada praktikum melatih model mengunakan 20 epoch dengan mengukur\n",
        "loss dan menyimpan control pada titik-titik tertentu, sedangkan pada tugas hanta melatih model menggunakan 1 epoch untuk tujuan demontrasi dan menggunakan tf.metrics.Mean() untuk menghitung rata-rata loss selama pelatihan.\n",
        "\n",
        "Penyimpanan Model: pada praktikum menggunakan tf.keras.callbacks.ModelCheckpoint\n",
        "berguna untuk menyimpan berat pada titik-titik tertentu selama pelatihan, tetapi pada tugas tidak ada langkah penyimpanan model yang ditunjukkan setelah 1 epoch pelatihan.\n",
        "\n",
        "Generasi Teks: pada praktikum tidak ada generasi teks yang ditunjukkan, tetapi didalam tugas\n",
        "menggunakan model yang sudah dilatih untuk menghasilkan teks yang mirip dengan tulisan Shakespeare.\n",
        "\n",
        "Jadi, perbedaan utama antara kedua kdoe tersebut adalah pada proses pelatihan dan penggunaan model, dimana praktikum lebih fokus pada pelatihan model Bahasa, sementara tugas lebih fokus pada penggunaan model yang sudah dilatih untuk menghasilkan teks yang serupa dengan Shakespeare."
      ],
      "metadata": {
        "id": "asMu8C3MrPWG"
      }
    }
  ],
  "metadata": {
    "accelerator": "GPU",
    "colab": {
      "provenance": [],
      "gpuType": "T4",
      "mount_file_id": "1rQ1achJCjCRWuks0Con005xvRwZWatmB",
      "authorship_tag": "ABX9TyPQ5n0JpHXMg81GArNytz59",
      "include_colab_link": true
    },
    "kernelspec": {
      "display_name": "Python 3",
      "name": "python3"
    },
    "language_info": {
      "name": "python"
    }
  },
  "nbformat": 4,
  "nbformat_minor": 0
}