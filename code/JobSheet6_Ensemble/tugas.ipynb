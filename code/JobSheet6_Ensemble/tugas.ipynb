{
 "cells": [
  {
   "cell_type": "code",
   "execution_count": 11,
   "outputs": [],
   "source": [
    "import pandas as pd\n",
    "import warnings; warnings.simplefilter('ignore')\n",
    "\n",
    "from sklearn.svm import SVC\n",
    "from sklearn.metrics import accuracy_score\n",
    "from sklearn.tree import DecisionTreeClassifier\n",
    "from sklearn.linear_model import LogisticRegression\n",
    "from sklearn.preprocessing import OneHotEncoder, LabelEncoder\n",
    "from sklearn.model_selection import train_test_split, GridSearchCV\n",
    "from sklearn.ensemble import RandomForestClassifier, AdaBoostClassifier, VotingClassifier"
   ],
   "metadata": {
    "collapsed": false,
    "ExecuteTime": {
     "end_time": "2023-10-14T15:11:01.511747200Z",
     "start_time": "2023-10-14T15:11:01.458672100Z"
    }
   },
   "id": "27421911be5d6e3f"
  },
  {
   "cell_type": "markdown",
   "source": [
    "## Tugas 1\n",
    "Terdapat dataset mushroom. Berdasarkan dataset yang tersebut, bandingkan peforma antara algoritma Decision Tree dan RandomForest. Gunakan tunning hyperparameter untuk mendapatkan parameter dan akurasi yang terbaik."
   ],
   "metadata": {
    "collapsed": false
   },
   "id": "5f827e7f5e8e104c"
  },
  {
   "cell_type": "code",
   "execution_count": 10,
   "outputs": [
    {
     "name": "stdout",
     "output_type": "stream",
     "text": [
      "Akurasi Decision Tree: 1.00\n",
      "Akurasi RandomForest: 1.00\n",
      "Parameter terbaik Decision Tree: {'max_depth': None}\n",
      "Parameter terbaik RandomForest: {'max_depth': None, 'n_estimators': 50}\n"
     ]
    }
   ],
   "source": [
    "path = \"csv/mushrooms.csv\"\n",
    "df = pd.read_csv(path)\n",
    "\n",
    "encoder = OneHotEncoder()\n",
    "encoded_data = encoder.fit_transform(df.drop(columns=['class'])).toarray()\n",
    "\n",
    "encoded_df = pd.DataFrame(encoded_data, columns=encoder.get_feature_names_out(df.drop(columns=['class']).columns))\n",
    "\n",
    "encoded_df['class'] = df['class']\n",
    "\n",
    "X = encoded_df.drop(columns=['class'])\n",
    "y = encoded_df['class']\n",
    "X_train, X_test, y_train, y_test = train_test_split(X, y, test_size=0.2, random_state=42)\n",
    "\n",
    "dt_classifier = DecisionTreeClassifier()\n",
    "dt_params = {'max_depth': [None, 5, 10, 15]}\n",
    "dt_grid_search = GridSearchCV(dt_classifier, dt_params, cv=5)\n",
    "dt_grid_search.fit(X_train, y_train)\n",
    "dt_best_params = dt_grid_search.best_params_\n",
    "dt_model = dt_grid_search.best_estimator_\n",
    "\n",
    "rf_classifier = RandomForestClassifier()\n",
    "rf_params = {'n_estimators': [50, 100, 150], 'max_depth': [None, 5, 10, 15]}\n",
    "rf_grid_search = GridSearchCV(rf_classifier, rf_params, cv=5)\n",
    "rf_grid_search.fit(X_train, y_train)\n",
    "rf_best_params = rf_grid_search.best_params_\n",
    "rf_model = rf_grid_search.best_estimator_\n",
    "\n",
    "dt_pred = dt_model.predict(X_test)\n",
    "rf_pred = rf_model.predict(X_test)\n",
    "\n",
    "dt_accuracy = accuracy_score(y_test, dt_pred)\n",
    "rf_accuracy = accuracy_score(y_test, rf_pred)\n",
    "\n",
    "print(f\"Akurasi Decision Tree: {dt_accuracy:.2f}\")\n",
    "print(f\"Akurasi RandomForest: {rf_accuracy:.2f}\")\n",
    "print(f\"Parameter terbaik Decision Tree: {dt_best_params}\")\n",
    "print(f\"Parameter terbaik RandomForest: {rf_best_params}\")"
   ],
   "metadata": {
    "collapsed": false,
    "ExecuteTime": {
     "end_time": "2023-10-14T15:08:08.743261Z",
     "start_time": "2023-10-14T15:07:32.075803800Z"
    }
   },
   "id": "initial_id"
  },
  {
   "cell_type": "markdown",
   "source": [
    "## Tugas 2\n",
    "Terdapat dataset mushroom. Berdasarkan dataset tersebut, bandingkan peforma antara algoritma Decision Tree dan AdaBoost. Gunakan tunning hyperparameter untuk mendapatkan parameter dan akurasi yang terbaik."
   ],
   "metadata": {
    "collapsed": false
   },
   "id": "650efd18a9889a9"
  },
  {
   "cell_type": "code",
   "execution_count": 9,
   "outputs": [
    {
     "name": "stdout",
     "output_type": "stream",
     "text": [
      "Akurasi Decision Tree: 1.00\n",
      "Akurasi AdaBoost: 1.00\n",
      "Parameter terbaik Decision Tree: {'max_depth': None}\n",
      "Parameter terbaik AdaBoost: {'learning_rate': 0.1, 'n_estimators': 50}\n"
     ]
    }
   ],
   "source": [
    "path = \"csv/mushrooms.csv\"\n",
    "df = pd.read_csv(path)\n",
    "\n",
    "label_encoders = {}\n",
    "for column in df.columns:\n",
    "    le = LabelEncoder()\n",
    "    df[column] = le.fit_transform(df[column])\n",
    "    label_encoders[column] = le\n",
    "\n",
    "X = df.drop(columns=['class'])\n",
    "y = df['class']\n",
    "X_train, X_test, y_train, y_test = train_test_split(X, y, test_size=0.2, random_state=42)\n",
    "\n",
    "dt_classifier = DecisionTreeClassifier()\n",
    "dt_params = {'max_depth': [None, 5, 10, 15]}\n",
    "dt_grid_search = GridSearchCV(dt_classifier, dt_params, cv=5)\n",
    "dt_grid_search.fit(X_train, y_train)\n",
    "dt_best_params = dt_grid_search.best_params_\n",
    "dt_model = dt_grid_search.best_estimator_\n",
    "\n",
    "adaboost_classifier = AdaBoostClassifier(base_estimator=DecisionTreeClassifier())\n",
    "adaboost_params = {'n_estimators': [50, 100, 150], 'learning_rate': [0.1, 0.5, 1.0]}\n",
    "adaboost_grid_search = GridSearchCV(adaboost_classifier, adaboost_params, cv=5)\n",
    "adaboost_grid_search.fit(X_train, y_train)\n",
    "adaboost_best_params = adaboost_grid_search.best_params_\n",
    "adaboost_model = adaboost_grid_search.best_estimator_\n",
    "\n",
    "dt_pred = dt_model.predict(X_test)\n",
    "adaboost_pred = adaboost_model.predict(X_test)\n",
    "\n",
    "dt_accuracy = accuracy_score(y_test, dt_pred)\n",
    "adaboost_accuracy = accuracy_score(y_test, adaboost_pred)\n",
    "\n",
    "print(f\"Akurasi Decision Tree: {dt_accuracy:.2f}\")\n",
    "print(f\"Akurasi AdaBoost: {adaboost_accuracy:.2f}\")\n",
    "print(f\"Parameter terbaik Decision Tree: {dt_best_params}\")\n",
    "print(f\"Parameter terbaik AdaBoost: {adaboost_best_params}\")"
   ],
   "metadata": {
    "collapsed": false,
    "ExecuteTime": {
     "end_time": "2023-10-14T15:07:27.336529100Z",
     "start_time": "2023-10-14T15:07:25.991086900Z"
    }
   },
   "id": "da7cf66f87ba6a0"
  },
  {
   "cell_type": "markdown",
   "source": [
    "## Tugas 3\n",
    "Dengan menggunakan dataset diabetes, buatlah ensemble voting dengan algoritma\n",
    "-> Logistic Regression\n",
    "-> SVM kernel polynomial\n",
    "-> Decission Tree"
   ],
   "metadata": {
    "collapsed": false
   },
   "id": "390ab33082f0083"
  },
  {
   "cell_type": "code",
   "execution_count": 14,
   "outputs": [
    {
     "name": "stdout",
     "output_type": "stream",
     "text": [
      "Hasil Akurasi: 0.77\n"
     ]
    }
   ],
   "source": [
    "path = \"csv/diabetes.csv\"\n",
    "df = pd.read_csv(path)\n",
    "\n",
    "df = df.apply(pd.to_numeric)\n",
    "X = df.drop(columns=['Outcome'])\n",
    "y = df['Outcome']\n",
    "X_train, X_test, y_train, y_test = train_test_split(X, y, test_size=0.2, random_state=42)\n",
    "\n",
    "logreg_model = LogisticRegression(random_state=42)\n",
    "svm_model = SVC(kernel='poly', degree=3, random_state=42)\n",
    "dt_model = DecisionTreeClassifier(random_state=42)\n",
    "\n",
    "voting_classifier = VotingClassifier(estimators=[('lr', logreg_model), ('svm', svm_model), ('dt', dt_model)], voting='hard')\n",
    "\n",
    "voting_classifier.fit(X_train, y_train)\n",
    "y_pred = voting_classifier.predict(X_test)\n",
    "\n",
    "accuracy = accuracy_score(y_test, y_pred)\n",
    "print(f\"Hasil Akurasi: {accuracy:.2f}\")"
   ],
   "metadata": {
    "collapsed": false,
    "ExecuteTime": {
     "end_time": "2023-10-14T15:12:20.130601100Z",
     "start_time": "2023-10-14T15:12:19.969632400Z"
    }
   },
   "id": "bea70fbd67a681c7"
  }
 ],
 "metadata": {
  "kernelspec": {
   "display_name": "Python 3",
   "language": "python",
   "name": "python3"
  },
  "language_info": {
   "codemirror_mode": {
    "name": "ipython",
    "version": 2
   },
   "file_extension": ".py",
   "mimetype": "text/x-python",
   "name": "python",
   "nbconvert_exporter": "python",
   "pygments_lexer": "ipython2",
   "version": "2.7.6"
  }
 },
 "nbformat": 4,
 "nbformat_minor": 5
}
