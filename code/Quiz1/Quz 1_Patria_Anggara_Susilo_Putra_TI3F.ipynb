{
 "cells": [
  {
   "cell_type": "code",
   "execution_count": 6,
   "id": "initial_id",
   "metadata": {
    "collapsed": true,
    "ExecuteTime": {
     "end_time": "2023-10-08T15:47:36.165078500Z",
     "start_time": "2023-10-08T15:47:36.075319700Z"
    }
   },
   "outputs": [],
   "source": [
    "import random\n",
    "import numpy as np\n",
    "import pandas as pd\n",
    "import seaborn as sns\n",
    "import matplotlib.pyplot as plt\n",
    "\n",
    "from sklearn.svm import SVC\n",
    "from sklearn.decomposition import PCA\n",
    "from sklearn.datasets import fetch_openml\n",
    "from sklearn.naive_bayes import GaussianNB\n",
    "from sklearn.naive_bayes import MultinomialNB\n",
    "from sklearn.model_selection import GridSearchCV\n",
    "from sklearn.model_selection import train_test_split\n",
    "from sklearn.metrics import accuracy_score, classification_report, confusion_matrix"
   ]
  },
  {
   "cell_type": "code",
   "execution_count": 7,
   "outputs": [
    {
     "name": "stderr",
     "output_type": "stream",
     "text": [
      "D:\\Android\\myanaconda\\lib\\site-packages\\sklearn\\datasets\\_openml.py:1002: FutureWarning: The default value of `parser` will change from `'liac-arff'` to `'auto'` in 1.4. You can set `parser='auto'` to silence this warning. Therefore, an `ImportError` will be raised from 1.4 if the dataset is dense and pandas is not installed. Note that the pandas parser may return different data types. See the Notes Section in fetch_openml's API doc for details.\n",
      "  warn(\n"
     ]
    },
    {
     "ename": "KeyboardInterrupt",
     "evalue": "",
     "output_type": "error",
     "traceback": [
      "\u001B[1;31m---------------------------------------------------------------------------\u001B[0m",
      "\u001B[1;31mKeyboardInterrupt\u001B[0m                         Traceback (most recent call last)",
      "Cell \u001B[1;32mIn[7], line 1\u001B[0m\n\u001B[1;32m----> 1\u001B[0m mnist \u001B[38;5;241m=\u001B[39m \u001B[43mfetch_openml\u001B[49m\u001B[43m(\u001B[49m\u001B[38;5;124;43m'\u001B[39;49m\u001B[38;5;124;43mmnist_784\u001B[39;49m\u001B[38;5;124;43m'\u001B[39;49m\u001B[43m)\u001B[49m\n\u001B[0;32m      2\u001B[0m \u001B[38;5;28mprint\u001B[39m(mnist\u001B[38;5;241m.\u001B[39mDESCR)\n\u001B[0;32m      4\u001B[0m mnist\u001B[38;5;241m.\u001B[39mkeys()\n",
      "File \u001B[1;32mD:\\Android\\myanaconda\\lib\\site-packages\\sklearn\\datasets\\_openml.py:1118\u001B[0m, in \u001B[0;36mfetch_openml\u001B[1;34m(name, version, data_id, data_home, target_column, cache, return_X_y, as_frame, n_retries, delay, parser, read_csv_kwargs)\u001B[0m\n\u001B[0;32m   1116\u001B[0m \u001B[38;5;66;03m# obtain the data\u001B[39;00m\n\u001B[0;32m   1117\u001B[0m url \u001B[38;5;241m=\u001B[39m _DATA_FILE\u001B[38;5;241m.\u001B[39mformat(data_description[\u001B[38;5;124m\"\u001B[39m\u001B[38;5;124mfile_id\u001B[39m\u001B[38;5;124m\"\u001B[39m])\n\u001B[1;32m-> 1118\u001B[0m bunch \u001B[38;5;241m=\u001B[39m \u001B[43m_download_data_to_bunch\u001B[49m\u001B[43m(\u001B[49m\n\u001B[0;32m   1119\u001B[0m \u001B[43m    \u001B[49m\u001B[43murl\u001B[49m\u001B[43m,\u001B[49m\n\u001B[0;32m   1120\u001B[0m \u001B[43m    \u001B[49m\u001B[43mreturn_sparse\u001B[49m\u001B[43m,\u001B[49m\n\u001B[0;32m   1121\u001B[0m \u001B[43m    \u001B[49m\u001B[43mdata_home\u001B[49m\u001B[43m,\u001B[49m\n\u001B[0;32m   1122\u001B[0m \u001B[43m    \u001B[49m\u001B[43mas_frame\u001B[49m\u001B[38;5;241;43m=\u001B[39;49m\u001B[38;5;28;43mbool\u001B[39;49m\u001B[43m(\u001B[49m\u001B[43mas_frame\u001B[49m\u001B[43m)\u001B[49m\u001B[43m,\u001B[49m\n\u001B[0;32m   1123\u001B[0m \u001B[43m    \u001B[49m\u001B[43mopenml_columns_info\u001B[49m\u001B[38;5;241;43m=\u001B[39;49m\u001B[43mfeatures_list\u001B[49m\u001B[43m,\u001B[49m\n\u001B[0;32m   1124\u001B[0m \u001B[43m    \u001B[49m\u001B[43mshape\u001B[49m\u001B[38;5;241;43m=\u001B[39;49m\u001B[43mshape\u001B[49m\u001B[43m,\u001B[49m\n\u001B[0;32m   1125\u001B[0m \u001B[43m    \u001B[49m\u001B[43mtarget_columns\u001B[49m\u001B[38;5;241;43m=\u001B[39;49m\u001B[43mtarget_columns\u001B[49m\u001B[43m,\u001B[49m\n\u001B[0;32m   1126\u001B[0m \u001B[43m    \u001B[49m\u001B[43mdata_columns\u001B[49m\u001B[38;5;241;43m=\u001B[39;49m\u001B[43mdata_columns\u001B[49m\u001B[43m,\u001B[49m\n\u001B[0;32m   1127\u001B[0m \u001B[43m    \u001B[49m\u001B[43mmd5_checksum\u001B[49m\u001B[38;5;241;43m=\u001B[39;49m\u001B[43mdata_description\u001B[49m\u001B[43m[\u001B[49m\u001B[38;5;124;43m\"\u001B[39;49m\u001B[38;5;124;43mmd5_checksum\u001B[39;49m\u001B[38;5;124;43m\"\u001B[39;49m\u001B[43m]\u001B[49m\u001B[43m,\u001B[49m\n\u001B[0;32m   1128\u001B[0m \u001B[43m    \u001B[49m\u001B[43mn_retries\u001B[49m\u001B[38;5;241;43m=\u001B[39;49m\u001B[43mn_retries\u001B[49m\u001B[43m,\u001B[49m\n\u001B[0;32m   1129\u001B[0m \u001B[43m    \u001B[49m\u001B[43mdelay\u001B[49m\u001B[38;5;241;43m=\u001B[39;49m\u001B[43mdelay\u001B[49m\u001B[43m,\u001B[49m\n\u001B[0;32m   1130\u001B[0m \u001B[43m    \u001B[49m\u001B[43mparser\u001B[49m\u001B[38;5;241;43m=\u001B[39;49m\u001B[43mparser_\u001B[49m\u001B[43m,\u001B[49m\n\u001B[0;32m   1131\u001B[0m \u001B[43m    \u001B[49m\u001B[43mread_csv_kwargs\u001B[49m\u001B[38;5;241;43m=\u001B[39;49m\u001B[43mread_csv_kwargs\u001B[49m\u001B[43m,\u001B[49m\n\u001B[0;32m   1132\u001B[0m \u001B[43m\u001B[49m\u001B[43m)\u001B[49m\n\u001B[0;32m   1134\u001B[0m \u001B[38;5;28;01mif\u001B[39;00m return_X_y:\n\u001B[0;32m   1135\u001B[0m     \u001B[38;5;28;01mreturn\u001B[39;00m bunch\u001B[38;5;241m.\u001B[39mdata, bunch\u001B[38;5;241m.\u001B[39mtarget\n",
      "File \u001B[1;32mD:\\Android\\myanaconda\\lib\\site-packages\\sklearn\\datasets\\_openml.py:669\u001B[0m, in \u001B[0;36m_download_data_to_bunch\u001B[1;34m(url, sparse, data_home, as_frame, openml_columns_info, data_columns, target_columns, shape, md5_checksum, n_retries, delay, parser, read_csv_kwargs)\u001B[0m\n\u001B[0;32m    665\u001B[0m     \u001B[38;5;28;01mfrom\u001B[39;00m \u001B[38;5;21;01mpandas\u001B[39;00m\u001B[38;5;21;01m.\u001B[39;00m\u001B[38;5;21;01merrors\u001B[39;00m \u001B[38;5;28;01mimport\u001B[39;00m ParserError\n\u001B[0;32m    667\u001B[0m     no_retry_exception \u001B[38;5;241m=\u001B[39m ParserError\n\u001B[1;32m--> 669\u001B[0m X, y, frame, categories \u001B[38;5;241m=\u001B[39m \u001B[43m_retry_with_clean_cache\u001B[49m\u001B[43m(\u001B[49m\n\u001B[0;32m    670\u001B[0m \u001B[43m    \u001B[49m\u001B[43murl\u001B[49m\u001B[43m,\u001B[49m\u001B[43m \u001B[49m\u001B[43mdata_home\u001B[49m\u001B[43m,\u001B[49m\u001B[43m \u001B[49m\u001B[43mno_retry_exception\u001B[49m\n\u001B[0;32m    671\u001B[0m \u001B[43m\u001B[49m\u001B[43m)\u001B[49m\u001B[43m(\u001B[49m\u001B[43m_load_arff_response\u001B[49m\u001B[43m)\u001B[49m\u001B[43m(\u001B[49m\n\u001B[0;32m    672\u001B[0m \u001B[43m    \u001B[49m\u001B[43murl\u001B[49m\u001B[43m,\u001B[49m\n\u001B[0;32m    673\u001B[0m \u001B[43m    \u001B[49m\u001B[43mdata_home\u001B[49m\u001B[43m,\u001B[49m\n\u001B[0;32m    674\u001B[0m \u001B[43m    \u001B[49m\u001B[43mparser\u001B[49m\u001B[38;5;241;43m=\u001B[39;49m\u001B[43mparser\u001B[49m\u001B[43m,\u001B[49m\n\u001B[0;32m    675\u001B[0m \u001B[43m    \u001B[49m\u001B[43moutput_type\u001B[49m\u001B[38;5;241;43m=\u001B[39;49m\u001B[43moutput_type\u001B[49m\u001B[43m,\u001B[49m\n\u001B[0;32m    676\u001B[0m \u001B[43m    \u001B[49m\u001B[43mopenml_columns_info\u001B[49m\u001B[38;5;241;43m=\u001B[39;49m\u001B[43mfeatures_dict\u001B[49m\u001B[43m,\u001B[49m\n\u001B[0;32m    677\u001B[0m \u001B[43m    \u001B[49m\u001B[43mfeature_names_to_select\u001B[49m\u001B[38;5;241;43m=\u001B[39;49m\u001B[43mdata_columns\u001B[49m\u001B[43m,\u001B[49m\n\u001B[0;32m    678\u001B[0m \u001B[43m    \u001B[49m\u001B[43mtarget_names_to_select\u001B[49m\u001B[38;5;241;43m=\u001B[39;49m\u001B[43mtarget_columns\u001B[49m\u001B[43m,\u001B[49m\n\u001B[0;32m    679\u001B[0m \u001B[43m    \u001B[49m\u001B[43mshape\u001B[49m\u001B[38;5;241;43m=\u001B[39;49m\u001B[43mshape\u001B[49m\u001B[43m,\u001B[49m\n\u001B[0;32m    680\u001B[0m \u001B[43m    \u001B[49m\u001B[43mmd5_checksum\u001B[49m\u001B[38;5;241;43m=\u001B[39;49m\u001B[43mmd5_checksum\u001B[49m\u001B[43m,\u001B[49m\n\u001B[0;32m    681\u001B[0m \u001B[43m    \u001B[49m\u001B[43mn_retries\u001B[49m\u001B[38;5;241;43m=\u001B[39;49m\u001B[43mn_retries\u001B[49m\u001B[43m,\u001B[49m\n\u001B[0;32m    682\u001B[0m \u001B[43m    \u001B[49m\u001B[43mdelay\u001B[49m\u001B[38;5;241;43m=\u001B[39;49m\u001B[43mdelay\u001B[49m\u001B[43m,\u001B[49m\n\u001B[0;32m    683\u001B[0m \u001B[43m    \u001B[49m\u001B[43mread_csv_kwargs\u001B[49m\u001B[38;5;241;43m=\u001B[39;49m\u001B[43mread_csv_kwargs\u001B[49m\u001B[43m,\u001B[49m\n\u001B[0;32m    684\u001B[0m \u001B[43m\u001B[49m\u001B[43m)\u001B[49m\n\u001B[0;32m    686\u001B[0m \u001B[38;5;28;01mreturn\u001B[39;00m Bunch(\n\u001B[0;32m    687\u001B[0m     data\u001B[38;5;241m=\u001B[39mX,\n\u001B[0;32m    688\u001B[0m     target\u001B[38;5;241m=\u001B[39my,\n\u001B[1;32m   (...)\u001B[0m\n\u001B[0;32m    692\u001B[0m     target_names\u001B[38;5;241m=\u001B[39mtarget_columns,\n\u001B[0;32m    693\u001B[0m )\n",
      "File \u001B[1;32mD:\\Android\\myanaconda\\lib\\site-packages\\sklearn\\datasets\\_openml.py:59\u001B[0m, in \u001B[0;36m_retry_with_clean_cache.<locals>.decorator.<locals>.wrapper\u001B[1;34m(*args, **kw)\u001B[0m\n\u001B[0;32m     57\u001B[0m     \u001B[38;5;28;01mreturn\u001B[39;00m f(\u001B[38;5;241m*\u001B[39margs, \u001B[38;5;241m*\u001B[39m\u001B[38;5;241m*\u001B[39mkw)\n\u001B[0;32m     58\u001B[0m \u001B[38;5;28;01mtry\u001B[39;00m:\n\u001B[1;32m---> 59\u001B[0m     \u001B[38;5;28;01mreturn\u001B[39;00m f(\u001B[38;5;241m*\u001B[39margs, \u001B[38;5;241m*\u001B[39m\u001B[38;5;241m*\u001B[39mkw)\n\u001B[0;32m     60\u001B[0m \u001B[38;5;28;01mexcept\u001B[39;00m URLError:\n\u001B[0;32m     61\u001B[0m     \u001B[38;5;28;01mraise\u001B[39;00m\n",
      "File \u001B[1;32mD:\\Android\\myanaconda\\lib\\site-packages\\sklearn\\datasets\\_openml.py:534\u001B[0m, in \u001B[0;36m_load_arff_response\u001B[1;34m(url, data_home, parser, output_type, openml_columns_info, feature_names_to_select, target_names_to_select, shape, md5_checksum, n_retries, delay, read_csv_kwargs)\u001B[0m\n\u001B[0;32m    524\u001B[0m arff_params: Dict \u001B[38;5;241m=\u001B[39m \u001B[38;5;28mdict\u001B[39m(\n\u001B[0;32m    525\u001B[0m     parser\u001B[38;5;241m=\u001B[39mparser,\n\u001B[0;32m    526\u001B[0m     output_type\u001B[38;5;241m=\u001B[39moutput_type,\n\u001B[1;32m   (...)\u001B[0m\n\u001B[0;32m    531\u001B[0m     read_csv_kwargs\u001B[38;5;241m=\u001B[39mread_csv_kwargs \u001B[38;5;129;01mor\u001B[39;00m {},\n\u001B[0;32m    532\u001B[0m )\n\u001B[0;32m    533\u001B[0m \u001B[38;5;28;01mtry\u001B[39;00m:\n\u001B[1;32m--> 534\u001B[0m     X, y, frame, categories \u001B[38;5;241m=\u001B[39m \u001B[43m_open_url_and_load_gzip_file\u001B[49m\u001B[43m(\u001B[49m\n\u001B[0;32m    535\u001B[0m \u001B[43m        \u001B[49m\u001B[43murl\u001B[49m\u001B[43m,\u001B[49m\u001B[43m \u001B[49m\u001B[43mdata_home\u001B[49m\u001B[43m,\u001B[49m\u001B[43m \u001B[49m\u001B[43mn_retries\u001B[49m\u001B[43m,\u001B[49m\u001B[43m \u001B[49m\u001B[43mdelay\u001B[49m\u001B[43m,\u001B[49m\u001B[43m \u001B[49m\u001B[43marff_params\u001B[49m\n\u001B[0;32m    536\u001B[0m \u001B[43m    \u001B[49m\u001B[43m)\u001B[49m\n\u001B[0;32m    537\u001B[0m \u001B[38;5;28;01mexcept\u001B[39;00m \u001B[38;5;167;01mException\u001B[39;00m \u001B[38;5;28;01mas\u001B[39;00m exc:\n\u001B[0;32m    538\u001B[0m     \u001B[38;5;28;01mif\u001B[39;00m parser \u001B[38;5;241m!=\u001B[39m \u001B[38;5;124m\"\u001B[39m\u001B[38;5;124mpandas\u001B[39m\u001B[38;5;124m\"\u001B[39m:\n",
      "File \u001B[1;32mD:\\Android\\myanaconda\\lib\\site-packages\\sklearn\\datasets\\_openml.py:522\u001B[0m, in \u001B[0;36m_load_arff_response.<locals>._open_url_and_load_gzip_file\u001B[1;34m(url, data_home, n_retries, delay, arff_params)\u001B[0m\n\u001B[0;32m    520\u001B[0m gzip_file \u001B[38;5;241m=\u001B[39m _open_openml_url(url, data_home, n_retries\u001B[38;5;241m=\u001B[39mn_retries, delay\u001B[38;5;241m=\u001B[39mdelay)\n\u001B[0;32m    521\u001B[0m \u001B[38;5;28;01mwith\u001B[39;00m closing(gzip_file):\n\u001B[1;32m--> 522\u001B[0m     \u001B[38;5;28;01mreturn\u001B[39;00m load_arff_from_gzip_file(gzip_file, \u001B[38;5;241m*\u001B[39m\u001B[38;5;241m*\u001B[39marff_params)\n",
      "File \u001B[1;32mD:\\Android\\myanaconda\\lib\\site-packages\\sklearn\\datasets\\_arff_parser.py:520\u001B[0m, in \u001B[0;36mload_arff_from_gzip_file\u001B[1;34m(gzip_file, parser, output_type, openml_columns_info, feature_names_to_select, target_names_to_select, shape, read_csv_kwargs)\u001B[0m\n\u001B[0;32m    470\u001B[0m \u001B[38;5;250m\u001B[39m\u001B[38;5;124;03m\"\"\"Load a compressed ARFF file using a given parser.\u001B[39;00m\n\u001B[0;32m    471\u001B[0m \n\u001B[0;32m    472\u001B[0m \u001B[38;5;124;03mParameters\u001B[39;00m\n\u001B[1;32m   (...)\u001B[0m\n\u001B[0;32m    517\u001B[0m \u001B[38;5;124;03m    `output_array_type == \"pandas\"`.\u001B[39;00m\n\u001B[0;32m    518\u001B[0m \u001B[38;5;124;03m\"\"\"\u001B[39;00m\n\u001B[0;32m    519\u001B[0m \u001B[38;5;28;01mif\u001B[39;00m parser \u001B[38;5;241m==\u001B[39m \u001B[38;5;124m\"\u001B[39m\u001B[38;5;124mliac-arff\u001B[39m\u001B[38;5;124m\"\u001B[39m:\n\u001B[1;32m--> 520\u001B[0m     \u001B[38;5;28;01mreturn\u001B[39;00m \u001B[43m_liac_arff_parser\u001B[49m\u001B[43m(\u001B[49m\n\u001B[0;32m    521\u001B[0m \u001B[43m        \u001B[49m\u001B[43mgzip_file\u001B[49m\u001B[43m,\u001B[49m\n\u001B[0;32m    522\u001B[0m \u001B[43m        \u001B[49m\u001B[43moutput_type\u001B[49m\u001B[43m,\u001B[49m\n\u001B[0;32m    523\u001B[0m \u001B[43m        \u001B[49m\u001B[43mopenml_columns_info\u001B[49m\u001B[43m,\u001B[49m\n\u001B[0;32m    524\u001B[0m \u001B[43m        \u001B[49m\u001B[43mfeature_names_to_select\u001B[49m\u001B[43m,\u001B[49m\n\u001B[0;32m    525\u001B[0m \u001B[43m        \u001B[49m\u001B[43mtarget_names_to_select\u001B[49m\u001B[43m,\u001B[49m\n\u001B[0;32m    526\u001B[0m \u001B[43m        \u001B[49m\u001B[43mshape\u001B[49m\u001B[43m,\u001B[49m\n\u001B[0;32m    527\u001B[0m \u001B[43m    \u001B[49m\u001B[43m)\u001B[49m\n\u001B[0;32m    528\u001B[0m \u001B[38;5;28;01melif\u001B[39;00m parser \u001B[38;5;241m==\u001B[39m \u001B[38;5;124m\"\u001B[39m\u001B[38;5;124mpandas\u001B[39m\u001B[38;5;124m\"\u001B[39m:\n\u001B[0;32m    529\u001B[0m     \u001B[38;5;28;01mreturn\u001B[39;00m _pandas_arff_parser(\n\u001B[0;32m    530\u001B[0m         gzip_file,\n\u001B[0;32m    531\u001B[0m         output_type,\n\u001B[1;32m   (...)\u001B[0m\n\u001B[0;32m    535\u001B[0m         read_csv_kwargs,\n\u001B[0;32m    536\u001B[0m     )\n",
      "File \u001B[1;32mD:\\Android\\myanaconda\\lib\\site-packages\\sklearn\\datasets\\_arff_parser.py:197\u001B[0m, in \u001B[0;36m_liac_arff_parser\u001B[1;34m(gzip_file, output_arrays_type, openml_columns_info, feature_names_to_select, target_names_to_select, shape)\u001B[0m\n\u001B[0;32m    195\u001B[0m columns_to_keep \u001B[38;5;241m=\u001B[39m [col \u001B[38;5;28;01mfor\u001B[39;00m col \u001B[38;5;129;01min\u001B[39;00m columns_names \u001B[38;5;28;01mif\u001B[39;00m col \u001B[38;5;129;01min\u001B[39;00m columns_to_select]\n\u001B[0;32m    196\u001B[0m dfs \u001B[38;5;241m=\u001B[39m [first_df[columns_to_keep]]\n\u001B[1;32m--> 197\u001B[0m \u001B[38;5;28;01mfor\u001B[39;00m data \u001B[38;5;129;01min\u001B[39;00m _chunk_generator(arff_container[\u001B[38;5;124m\"\u001B[39m\u001B[38;5;124mdata\u001B[39m\u001B[38;5;124m\"\u001B[39m], chunksize):\n\u001B[0;32m    198\u001B[0m     dfs\u001B[38;5;241m.\u001B[39mappend(\n\u001B[0;32m    199\u001B[0m         pd\u001B[38;5;241m.\u001B[39mDataFrame(data, columns\u001B[38;5;241m=\u001B[39mcolumns_names, copy\u001B[38;5;241m=\u001B[39m\u001B[38;5;28;01mFalse\u001B[39;00m)[columns_to_keep]\n\u001B[0;32m    200\u001B[0m     )\n\u001B[0;32m    201\u001B[0m \u001B[38;5;66;03m# dfs[0] contains only one row, which may not have enough data to infer to\u001B[39;00m\n\u001B[0;32m    202\u001B[0m \u001B[38;5;66;03m# column's dtype. Here we use `dfs[1]` to configure the dtype in dfs[0]\u001B[39;00m\n",
      "File \u001B[1;32mD:\\Android\\myanaconda\\lib\\site-packages\\sklearn\\utils\\__init__.py:729\u001B[0m, in \u001B[0;36m_chunk_generator\u001B[1;34m(gen, chunksize)\u001B[0m\n\u001B[0;32m    726\u001B[0m \u001B[38;5;250m\u001B[39m\u001B[38;5;124;03m\"\"\"Chunk generator, ``gen`` into lists of length ``chunksize``. The last\u001B[39;00m\n\u001B[0;32m    727\u001B[0m \u001B[38;5;124;03mchunk may have a length less than ``chunksize``.\"\"\"\u001B[39;00m\n\u001B[0;32m    728\u001B[0m \u001B[38;5;28;01mwhile\u001B[39;00m \u001B[38;5;28;01mTrue\u001B[39;00m:\n\u001B[1;32m--> 729\u001B[0m     chunk \u001B[38;5;241m=\u001B[39m \u001B[38;5;28;43mlist\u001B[39;49m\u001B[43m(\u001B[49m\u001B[43mislice\u001B[49m\u001B[43m(\u001B[49m\u001B[43mgen\u001B[49m\u001B[43m,\u001B[49m\u001B[43m \u001B[49m\u001B[43mchunksize\u001B[49m\u001B[43m)\u001B[49m\u001B[43m)\u001B[49m\n\u001B[0;32m    730\u001B[0m     \u001B[38;5;28;01mif\u001B[39;00m chunk:\n\u001B[0;32m    731\u001B[0m         \u001B[38;5;28;01myield\u001B[39;00m chunk\n",
      "File \u001B[1;32mD:\\Android\\myanaconda\\lib\\site-packages\\sklearn\\externals\\_arff.py:461\u001B[0m, in \u001B[0;36mDenseGeneratorData.decode_rows\u001B[1;34m(self, stream, conversors)\u001B[0m\n\u001B[0;32m    460\u001B[0m \u001B[38;5;28;01mdef\u001B[39;00m \u001B[38;5;21mdecode_rows\u001B[39m(\u001B[38;5;28mself\u001B[39m, stream, conversors):\n\u001B[1;32m--> 461\u001B[0m     \u001B[38;5;28;01mfor\u001B[39;00m row \u001B[38;5;129;01min\u001B[39;00m stream:\n\u001B[0;32m    462\u001B[0m         values \u001B[38;5;241m=\u001B[39m _parse_values(row)\n\u001B[0;32m    464\u001B[0m         \u001B[38;5;28;01mif\u001B[39;00m \u001B[38;5;28misinstance\u001B[39m(values, \u001B[38;5;28mdict\u001B[39m):\n",
      "File \u001B[1;32mD:\\Android\\myanaconda\\lib\\site-packages\\sklearn\\externals\\_arff.py:864\u001B[0m, in \u001B[0;36mArffDecoder._decode.<locals>.stream\u001B[1;34m()\u001B[0m\n\u001B[0;32m    863\u001B[0m \u001B[38;5;28;01mdef\u001B[39;00m \u001B[38;5;21mstream\u001B[39m():\n\u001B[1;32m--> 864\u001B[0m     \u001B[38;5;28;01mfor\u001B[39;00m row \u001B[38;5;129;01min\u001B[39;00m s:\n\u001B[0;32m    865\u001B[0m         \u001B[38;5;28mself\u001B[39m\u001B[38;5;241m.\u001B[39m_current_line \u001B[38;5;241m+\u001B[39m\u001B[38;5;241m=\u001B[39m \u001B[38;5;241m1\u001B[39m\n\u001B[0;32m    866\u001B[0m         row \u001B[38;5;241m=\u001B[39m row\u001B[38;5;241m.\u001B[39mstrip()\n",
      "File \u001B[1;32mD:\\Android\\myanaconda\\lib\\site-packages\\sklearn\\datasets\\_arff_parser.py:161\u001B[0m, in \u001B[0;36m_liac_arff_parser.<locals>._io_to_generator\u001B[1;34m(gzip_file)\u001B[0m\n\u001B[0;32m    160\u001B[0m \u001B[38;5;28;01mdef\u001B[39;00m \u001B[38;5;21m_io_to_generator\u001B[39m(gzip_file):\n\u001B[1;32m--> 161\u001B[0m     \u001B[38;5;28;01mfor\u001B[39;00m line \u001B[38;5;129;01min\u001B[39;00m gzip_file:\n\u001B[0;32m    162\u001B[0m         \u001B[38;5;28;01myield\u001B[39;00m line\u001B[38;5;241m.\u001B[39mdecode(\u001B[38;5;124m\"\u001B[39m\u001B[38;5;124mutf-8\u001B[39m\u001B[38;5;124m\"\u001B[39m)\n",
      "File \u001B[1;32mD:\\Android\\myanaconda\\lib\\gzip.py:399\u001B[0m, in \u001B[0;36mGzipFile.readline\u001B[1;34m(self, size)\u001B[0m\n\u001B[0;32m    397\u001B[0m \u001B[38;5;28;01mdef\u001B[39;00m \u001B[38;5;21mreadline\u001B[39m(\u001B[38;5;28mself\u001B[39m, size\u001B[38;5;241m=\u001B[39m\u001B[38;5;241m-\u001B[39m\u001B[38;5;241m1\u001B[39m):\n\u001B[0;32m    398\u001B[0m     \u001B[38;5;28mself\u001B[39m\u001B[38;5;241m.\u001B[39m_check_not_closed()\n\u001B[1;32m--> 399\u001B[0m     \u001B[38;5;28;01mreturn\u001B[39;00m \u001B[38;5;28;43mself\u001B[39;49m\u001B[38;5;241;43m.\u001B[39;49m\u001B[43m_buffer\u001B[49m\u001B[38;5;241;43m.\u001B[39;49m\u001B[43mreadline\u001B[49m\u001B[43m(\u001B[49m\u001B[43msize\u001B[49m\u001B[43m)\u001B[49m\n",
      "File \u001B[1;32mD:\\Android\\myanaconda\\lib\\_compression.py:68\u001B[0m, in \u001B[0;36mDecompressReader.readinto\u001B[1;34m(self, b)\u001B[0m\n\u001B[0;32m     66\u001B[0m \u001B[38;5;28;01mdef\u001B[39;00m \u001B[38;5;21mreadinto\u001B[39m(\u001B[38;5;28mself\u001B[39m, b):\n\u001B[0;32m     67\u001B[0m     \u001B[38;5;28;01mwith\u001B[39;00m \u001B[38;5;28mmemoryview\u001B[39m(b) \u001B[38;5;28;01mas\u001B[39;00m view, view\u001B[38;5;241m.\u001B[39mcast(\u001B[38;5;124m\"\u001B[39m\u001B[38;5;124mB\u001B[39m\u001B[38;5;124m\"\u001B[39m) \u001B[38;5;28;01mas\u001B[39;00m byte_view:\n\u001B[1;32m---> 68\u001B[0m         data \u001B[38;5;241m=\u001B[39m \u001B[38;5;28;43mself\u001B[39;49m\u001B[38;5;241;43m.\u001B[39;49m\u001B[43mread\u001B[49m\u001B[43m(\u001B[49m\u001B[38;5;28;43mlen\u001B[39;49m\u001B[43m(\u001B[49m\u001B[43mbyte_view\u001B[49m\u001B[43m)\u001B[49m\u001B[43m)\u001B[49m\n\u001B[0;32m     69\u001B[0m         byte_view[:\u001B[38;5;28mlen\u001B[39m(data)] \u001B[38;5;241m=\u001B[39m data\n\u001B[0;32m     70\u001B[0m     \u001B[38;5;28;01mreturn\u001B[39;00m \u001B[38;5;28mlen\u001B[39m(data)\n",
      "File \u001B[1;32mD:\\Android\\myanaconda\\lib\\gzip.py:494\u001B[0m, in \u001B[0;36m_GzipReader.read\u001B[1;34m(self, size)\u001B[0m\n\u001B[0;32m    491\u001B[0m     \u001B[38;5;28mself\u001B[39m\u001B[38;5;241m.\u001B[39m_new_member \u001B[38;5;241m=\u001B[39m \u001B[38;5;28;01mFalse\u001B[39;00m\n\u001B[0;32m    493\u001B[0m \u001B[38;5;66;03m# Read a chunk of data from the file\u001B[39;00m\n\u001B[1;32m--> 494\u001B[0m buf \u001B[38;5;241m=\u001B[39m \u001B[38;5;28;43mself\u001B[39;49m\u001B[38;5;241;43m.\u001B[39;49m\u001B[43m_fp\u001B[49m\u001B[38;5;241;43m.\u001B[39;49m\u001B[43mread\u001B[49m\u001B[43m(\u001B[49m\u001B[43mio\u001B[49m\u001B[38;5;241;43m.\u001B[39;49m\u001B[43mDEFAULT_BUFFER_SIZE\u001B[49m\u001B[43m)\u001B[49m\n\u001B[0;32m    496\u001B[0m uncompress \u001B[38;5;241m=\u001B[39m \u001B[38;5;28mself\u001B[39m\u001B[38;5;241m.\u001B[39m_decompressor\u001B[38;5;241m.\u001B[39mdecompress(buf, size)\n\u001B[0;32m    497\u001B[0m \u001B[38;5;28;01mif\u001B[39;00m \u001B[38;5;28mself\u001B[39m\u001B[38;5;241m.\u001B[39m_decompressor\u001B[38;5;241m.\u001B[39munconsumed_tail \u001B[38;5;241m!=\u001B[39m \u001B[38;5;124mb\u001B[39m\u001B[38;5;124m\"\u001B[39m\u001B[38;5;124m\"\u001B[39m:\n",
      "File \u001B[1;32mD:\\Android\\myanaconda\\lib\\gzip.py:97\u001B[0m, in \u001B[0;36m_PaddedFile.read\u001B[1;34m(self, size)\u001B[0m\n\u001B[0;32m     94\u001B[0m read \u001B[38;5;241m=\u001B[39m \u001B[38;5;28mself\u001B[39m\u001B[38;5;241m.\u001B[39m_read\n\u001B[0;32m     95\u001B[0m \u001B[38;5;28mself\u001B[39m\u001B[38;5;241m.\u001B[39m_read \u001B[38;5;241m=\u001B[39m \u001B[38;5;28;01mNone\u001B[39;00m\n\u001B[0;32m     96\u001B[0m \u001B[38;5;28;01mreturn\u001B[39;00m \u001B[38;5;28mself\u001B[39m\u001B[38;5;241m.\u001B[39m_buffer[read:] \u001B[38;5;241m+\u001B[39m \\\n\u001B[1;32m---> 97\u001B[0m        \u001B[38;5;28;43mself\u001B[39;49m\u001B[38;5;241;43m.\u001B[39;49m\u001B[43mfile\u001B[49m\u001B[38;5;241;43m.\u001B[39;49m\u001B[43mread\u001B[49m\u001B[43m(\u001B[49m\u001B[43msize\u001B[49m\u001B[38;5;241;43m-\u001B[39;49m\u001B[38;5;28;43mself\u001B[39;49m\u001B[38;5;241;43m.\u001B[39;49m\u001B[43m_length\u001B[49m\u001B[38;5;241;43m+\u001B[39;49m\u001B[43mread\u001B[49m\u001B[43m)\u001B[49m\n",
      "\u001B[1;31mKeyboardInterrupt\u001B[0m: "
     ]
    }
   ],
   "source": [
    "mnist = fetch_openml('mnist_784')\n",
    "print(mnist.DESCR)\n",
    "\n",
    "mnist.keys()"
   ],
   "metadata": {
    "collapsed": false,
    "ExecuteTime": {
     "end_time": "2023-10-08T15:48:07.653299500Z",
     "start_time": "2023-10-08T15:47:36.092275400Z"
    }
   },
   "id": "5b44431a85b61dd7"
  },
  {
   "cell_type": "markdown",
   "source": [
    "## 1. Memeriksa Data Imbalance"
   ],
   "metadata": {
    "collapsed": false
   },
   "id": "7e4a4c63c2e6804b"
  },
  {
   "cell_type": "code",
   "execution_count": null,
   "outputs": [],
   "source": [
    "# Membuat DataFrame dari dataset\n",
    "mnist_df = pd.DataFrame(data=mnist.data, columns=mnist.feature_names)\n",
    "mnist_df = pd.concat([mnist_df, pd.Series(mnist.target, name='target')], axis=1)\n",
    "\n",
    "# Memeriksa jumlah data setiap label\n",
    "label_counts = mnist_df['target'].value_counts().sort_index()\n",
    "print(\"Jumlah data setiap label:\")\n",
    "print(label_counts)"
   ],
   "metadata": {
    "collapsed": false,
    "ExecuteTime": {
     "end_time": "2023-10-08T15:48:07.670254700Z",
     "start_time": "2023-10-08T15:48:07.657289400Z"
    }
   },
   "id": "a1d4e01d2303627b"
  },
  {
   "cell_type": "markdown",
   "source": [
    "## 2. Menampilkan 15 Citra Pertama dari MNIST"
   ],
   "metadata": {
    "collapsed": false
   },
   "id": "eaeca0a01d91d639"
  },
  {
   "cell_type": "code",
   "execution_count": 8,
   "outputs": [
    {
     "data": {
      "text/plain": "<Figure size 1000x600 with 15 Axes>",
      "image/png": "[encoded data removed]"
     },
     "metadata": {},
     "output_type": "display_data"
    }
   ],
   "source": [
    "# Mengambil 15 citra pertama dan labelnya\n",
    "images = mnist.data[:15].values.astype(float)\n",
    "labels = mnist.target[:15].values.astype(int)\n",
    "\n",
    "# Normalisasi nilai piksel\n",
    "images /= 255.0\n",
    "\n",
    "# Menampilkan 15 citra pertama berserta labelnya\n",
    "fig, axes = plt.subplots(3, 5, figsize=(10, 6),\n",
    "                         subplot_kw={'xticks':[], 'yticks':[]},\n",
    "                         gridspec_kw=dict(hspace=0.1, wspace=0.1))\n",
    "\n",
    "for i, ax in enumerate(axes.flat):\n",
    "    ax.imshow(images[i].reshape(28, 28), cmap='binary', interpolation='nearest')\n",
    "    ax.text(0.05, 0.05, str(labels[i]), transform=ax.transAxes, color='green' if labels[i] == labels[0] else 'red')\n",
    "\n",
    "plt.show()"
   ],
   "metadata": {
    "collapsed": false,
    "ExecuteTime": {
     "end_time": "2023-10-08T15:48:21.288124400Z",
     "start_time": "2023-10-08T15:48:19.747238200Z"
    }
   },
   "id": "22abc4e09860c763"
  },
  {
   "cell_type": "markdown",
   "source": [
    "## 3. Ekstrasi Fitur"
   ],
   "metadata": {
    "collapsed": false
   },
   "id": "2ec18da4d8335420"
  },
  {
   "cell_type": "code",
   "execution_count": 9,
   "outputs": [],
   "source": [
    "X = mnist_df.drop('target', axis=1)\n",
    "y = mnist_df['target']\n",
    "\n",
    "# Menentukan jumlah komponen utama (principal components) yang ingin dipertahankan\n",
    "n_components = 50\n",
    "\n",
    "# Menerapkan PCA pada data citra\n",
    "pca = PCA(n_components=n_components, random_state=42)\n",
    "X_pca = pca.fit_transform(X)"
   ],
   "metadata": {
    "collapsed": false,
    "ExecuteTime": {
     "end_time": "2023-10-08T15:48:30.202635Z",
     "start_time": "2023-10-08T15:48:23.973372Z"
    }
   },
   "id": "3cdcfc983418da81"
  },
  {
   "cell_type": "markdown",
   "source": [
    "## 4. Buatlah data training dan data testing menggunakan rasio 70:30, 80:20, 90:10."
   ],
   "metadata": {
    "collapsed": false
   },
   "id": "2bb1560e97aaf7c"
  },
  {
   "cell_type": "code",
   "execution_count": 10,
   "outputs": [],
   "source": [
    "X_train_70, X_test_70, y_train_70, y_test_70 = train_test_split(X, y, test_size=0.3, random_state=42)"
   ],
   "metadata": {
    "collapsed": false,
    "ExecuteTime": {
     "end_time": "2023-10-08T15:49:06.533868Z",
     "start_time": "2023-10-08T15:49:05.044850400Z"
    }
   },
   "id": "5f9c0e310a98cb27"
  },
  {
   "cell_type": "code",
   "execution_count": 11,
   "outputs": [],
   "source": [
    "X_train_80, X_test_80, y_train_80, y_test_80 = train_test_split(X, y, test_size=0.2, random_state=42)"
   ],
   "metadata": {
    "collapsed": false,
    "ExecuteTime": {
     "end_time": "2023-10-08T15:49:07.751612Z",
     "start_time": "2023-10-08T15:49:06.526887100Z"
    }
   },
   "id": "395d1d329fe7f3f"
  },
  {
   "cell_type": "code",
   "execution_count": 12,
   "outputs": [],
   "source": [
    "X_train_90, X_test_90, y_train_90, y_test_90 = train_test_split(X, y, test_size=0.1, random_state=42)"
   ],
   "metadata": {
    "collapsed": false,
    "ExecuteTime": {
     "end_time": "2023-10-08T15:49:09.138769200Z",
     "start_time": "2023-10-08T15:49:07.755600400Z"
    }
   },
   "id": "d3feaa36dac966a5"
  },
  {
   "cell_type": "markdown",
   "source": [
    "## 5. Lakukan proses klasifikasi dengan menggunakan algoritma Naive Bayes dan SVM."
   ],
   "metadata": {
    "collapsed": false
   },
   "id": "c9b4c9d5c5c1a8d3"
  },
  {
   "cell_type": "code",
   "execution_count": 13,
   "outputs": [
    {
     "name": "stdout",
     "output_type": "stream",
     "text": [
      "Akurasi Naive Bayes (70:30): 0.83\n",
      "Akurasi Naive Bayes (80:20): 0.83\n",
      "Akurasi Naive Bayes (90:10): 0.83\n"
     ]
    }
   ],
   "source": [
    "# --- menggunakan algortima Naive Bayes\n",
    "\n",
    "# Klasifikasi dengan Naive Bayes pada rasio 70:30\n",
    "nb_model_70 = MultinomialNB()\n",
    "nb_model_70.fit(X_train_70, y_train_70)\n",
    "accuracy_nb_70 = nb_model_70.score(X_test_70, y_test_70)\n",
    "print(f\"Akurasi Naive Bayes (70:30): {accuracy_nb_70:.2f}\")\n",
    "\n",
    "# Klasifikasi dengan Naive Bayes pada rasio 80:20\n",
    "nb_model_80 = MultinomialNB()\n",
    "nb_model_80.fit(X_train_80, y_train_80)\n",
    "accuracy_nb_80 = nb_model_80.score(X_test_80, y_test_80)\n",
    "print(f\"Akurasi Naive Bayes (80:20): {accuracy_nb_80:.2f}\")\n",
    "\n",
    "# Klasifikasi dengan Naive Bayes pada rasio 90:10\n",
    "nb_model_90 = MultinomialNB()\n",
    "nb_model_90.fit(X_train_90, y_train_90)\n",
    "accuracy_nb_90 = nb_model_90.score(X_test_90, y_test_90)\n",
    "print(f\"Akurasi Naive Bayes (90:10): {accuracy_nb_90:.2f}\")"
   ],
   "metadata": {
    "collapsed": false,
    "ExecuteTime": {
     "end_time": "2023-10-08T15:50:11.281579300Z",
     "start_time": "2023-10-08T15:50:07.695041500Z"
    }
   },
   "id": "1957aada97eebf"
  },
  {
   "cell_type": "code",
   "execution_count": 14,
   "outputs": [
    {
     "name": "stdout",
     "output_type": "stream",
     "text": [
      "Akurasi SVM (70:30): 0.98\n",
      "Akurasi SVM (80:20): 0.98\n",
      "Akurasi SVM (90:10): 0.97\n"
     ]
    }
   ],
   "source": [
    "# Klasifikasi dengan SVM pada rasio 70:30\n",
    "svm_model_70 = SVC()\n",
    "svm_model_70.fit(X_train_70, y_train_70)\n",
    "accuracy_svm_70 = svm_model_70.score(X_test_70, y_test_70)\n",
    "print(f\"Akurasi SVM (70:30): {accuracy_svm_70:.2f}\")\n",
    "\n",
    "# Klasifikasi dengan SVM pada rasio 80:20\n",
    "svm_model_80 = SVC()\n",
    "svm_model_80.fit(X_train_80, y_train_80)\n",
    "accuracy_svm_80 = svm_model_80.score(X_test_80, y_test_80)\n",
    "print(f\"Akurasi SVM (80:20): {accuracy_svm_80:.2f}\")\n",
    "\n",
    "# Klasifikasi dengan SVM pada rasio 90:10\n",
    "svm_model_90 = SVC()\n",
    "svm_model_90.fit(X_train_90, y_train_90)\n",
    "accuracy_svm_90 = svm_model_90.score(X_test_90, y_test_90)\n",
    "print(f\"Akurasi SVM (90:10): {accuracy_svm_90:.2f}\")"
   ],
   "metadata": {
    "collapsed": false,
    "ExecuteTime": {
     "end_time": "2023-10-08T16:07:19.755014300Z",
     "start_time": "2023-10-08T15:50:12.685000700Z"
    }
   },
   "id": "e122b8e527856844"
  },
  {
   "cell_type": "markdown",
   "source": [
    "## 6. Evaluasi model yang Anda buat terhadap data training dan data testing."
   ],
   "metadata": {
    "collapsed": false
   },
   "id": "63d7cefdf77c62c7"
  },
  {
   "cell_type": "code",
   "execution_count": 15,
   "outputs": [
    {
     "name": "stdout",
     "output_type": "stream",
     "text": [
      "Akurasi Data Training (Naive Bayes 70:30): 0.83\n",
      "Akurasi Data Testing (Naive Bayes 70:30): 0.83\n",
      "Classification Report (Naive Bayes - Data Testing 70:30):\n",
      "              precision    recall  f1-score   support\n",
      "\n",
      "           0       0.92      0.90      0.91      2058\n",
      "           1       0.88      0.94      0.91      2364\n",
      "           2       0.88      0.83      0.85      2133\n",
      "           3       0.79      0.81      0.80      2176\n",
      "           4       0.83      0.74      0.78      1936\n",
      "           5       0.85      0.66      0.75      1915\n",
      "           6       0.87      0.92      0.89      2088\n",
      "           7       0.94      0.83      0.88      2248\n",
      "           8       0.65      0.77      0.70      1992\n",
      "           9       0.69      0.83      0.76      2090\n",
      "\n",
      "    accuracy                           0.83     21000\n",
      "   macro avg       0.83      0.82      0.82     21000\n",
      "weighted avg       0.83      0.83      0.83     21000\n",
      "\n",
      "Confusion Matrix (Naive Bayes - Data Testing 70:30):\n",
      "[[1857    1   12    6    4   33   40    1  102    2]\n",
      " [   0 2215   12   22    2   13    5    1   91    3]\n",
      " [  25   33 1766   39   20    4  103   20  116    7]\n",
      " [  12   35  102 1766    5   43   24   20  100   69]\n",
      " [   5    4   12    4 1427    7   46    9   71  351]\n",
      " [  55   20   18  252   37 1267   41    5  161   59]\n",
      " [  20   41   36    1   16   37 1917    0   20    0]\n",
      " [  18   34   13   10   43    0    1 1859   78  192]\n",
      " [   8  113   32  102   21   74   20    9 1525   88]\n",
      " [  14   21   12   20  139    8    0   56   79 1741]]\n"
     ]
    }
   ],
   "source": [
    "# Evaluasi model Naive Bayes pada data training (rasio 70:30)\n",
    "y_train_pred_nb_70 = nb_model_70.predict(X_train_70)\n",
    "train_accuracy_nb_70 = accuracy_score(y_train_70, y_train_pred_nb_70)\n",
    "print(f\"Akurasi Data Training (Naive Bayes 70:30): {train_accuracy_nb_70:.2f}\")\n",
    "\n",
    "# Evaluasi model Naive Bayes pada data testing (rasio 70:30)\n",
    "y_test_pred_nb_70 = nb_model_70.predict(X_test_70)\n",
    "test_accuracy_nb_70 = accuracy_score(y_test_70, y_test_pred_nb_70)\n",
    "print(f\"Akurasi Data Testing (Naive Bayes 70:30): {test_accuracy_nb_70:.2f}\")\n",
    "\n",
    "# Classification report Naive Bayes\n",
    "print(\"Classification Report (Naive Bayes - Data Testing 70:30):\")\n",
    "print(classification_report(y_test_70, y_test_pred_nb_70))\n",
    "\n",
    "# Confusion matrix Naive Bayes\n",
    "print(\"Confusion Matrix (Naive Bayes - Data Testing 70:30):\")\n",
    "print(confusion_matrix(y_test_70, y_test_pred_nb_70))"
   ],
   "metadata": {
    "collapsed": false,
    "ExecuteTime": {
     "end_time": "2023-10-08T16:09:18.733178200Z",
     "start_time": "2023-10-08T16:09:16.885127400Z"
    }
   },
   "id": "d23f2b3b6bd1d08d"
  },
  {
   "cell_type": "code",
   "execution_count": 16,
   "outputs": [
    {
     "name": "stdout",
     "output_type": "stream",
     "text": [
      "Akurasi Data Training (SVM 70:30): 0.99\n",
      "Akurasi Data Testing (SVM 70:30): 0.98\n",
      "Classification Report (SVM - Data Testing 70:30):\n",
      "              precision    recall  f1-score   support\n",
      "\n",
      "           0       0.99      0.99      0.99      2058\n",
      "           1       0.98      0.99      0.99      2364\n",
      "           2       0.97      0.98      0.97      2133\n",
      "           3       0.97      0.97      0.97      2176\n",
      "           4       0.97      0.98      0.97      1936\n",
      "           5       0.98      0.97      0.97      1915\n",
      "           6       0.98      0.99      0.99      2088\n",
      "           7       0.97      0.97      0.97      2248\n",
      "           8       0.98      0.96      0.97      1992\n",
      "           9       0.97      0.96      0.97      2090\n",
      "\n",
      "    accuracy                           0.98     21000\n",
      "   macro avg       0.98      0.98      0.98     21000\n",
      "weighted avg       0.98      0.98      0.98     21000\n",
      "\n",
      "Confusion Matrix (SVM - Data Testing 70:30):\n",
      "[[2035    1    3    0    1    4    8    2    4    0]\n",
      " [   0 2344    8    4    1    0    0    4    2    1]\n",
      " [   2    5 2083    5    5    4    6   13    8    2]\n",
      " [   2    2   19 2104    2   15    1   13   12    6]\n",
      " [   2    4    3    0 1894    0    4    6    2   21]\n",
      " [   3    1    2   19    4 1861   15    1    8    1]\n",
      " [   1    2    0    0    5    7 2070    0    3    0]\n",
      " [   2    8   18    3   12    2    0 2184    2   17]\n",
      " [   3   10   10   15    7    9    9    5 1918    6]\n",
      " [  12   10    3   10   22    2    0   17    5 2009]]\n"
     ]
    }
   ],
   "source": [
    "# Evaluasi model SVM pada data training (rasio 70:30)\n",
    "y_train_pred_svm_70 = svm_model_70.predict(X_train_70)\n",
    "train_accuracy_svm_70 = accuracy_score(y_train_70, y_train_pred_svm_70)\n",
    "print(f\"Akurasi Data Training (SVM 70:30): {train_accuracy_svm_70:.2f}\")\n",
    "\n",
    "# Evaluasi model SVM pada data testing (rasio 70:30)\n",
    "y_test_pred_svm_70 = svm_model_70.predict(X_test_70)\n",
    "test_accuracy_svm_70 = accuracy_score(y_test_70, y_test_pred_svm_70)\n",
    "print(f\"Akurasi Data Testing (SVM 70:30): {test_accuracy_svm_70:.2f}\")\n",
    "\n",
    "# Classification report SVM\n",
    "print(\"Classification Report (SVM - Data Testing 70:30):\")\n",
    "print(classification_report(y_test_70, y_test_pred_svm_70))\n",
    "\n",
    "# Confusion matrix SVM\n",
    "print(\"Confusion Matrix (SVM - Data Testing 70:30):\")\n",
    "print(confusion_matrix(y_test_70, y_test_pred_svm_70))"
   ],
   "metadata": {
    "collapsed": false,
    "ExecuteTime": {
     "end_time": "2023-10-08T16:18:23.905505600Z",
     "start_time": "2023-10-08T16:09:21.576250700Z"
    }
   },
   "id": "ac1ebd192ef66d1b"
  },
  {
   "cell_type": "markdown",
   "source": [
    "## 7. Tampilkan citra data testing berserta hasil pelabelannya. Anda dapat menggunakan Job Sheet 03 sebagai acuan."
   ],
   "metadata": {
    "collapsed": false
   },
   "id": "410d2ec75b6418dd"
  },
  {
   "cell_type": "code",
   "execution_count": 17,
   "outputs": [
    {
     "data": {
      "text/plain": "<Figure size 1500x500 with 10 Axes>",
      "image/png": "[encoded data removed]"
     },
     "metadata": {},
     "output_type": "display_data"
    }
   ],
   "source": [
    "# Memilih beberapa sampel secara acak untuk divisualisasikan\n",
    "random_indices = random.sample(range(len(y_test_70)), 10)\n",
    "\n",
    "plt.figure(figsize=(15, 5))\n",
    "for i, index in enumerate(random_indices, 1):\n",
    "    plt.subplot(2, 5, i)\n",
    "    plt.imshow(X_test_70.iloc[index].values.reshape(28, 28), cmap='binary')\n",
    "    plt.title(f\"True: {y_test_70.iloc[index]}\\nNB Predicted: {y_test_pred_nb_70[index]}\\nSVM Predicted: {y_test_pred_svm_70[index]}\")\n",
    "    plt.axis('off')\n",
    "plt.tight_layout()\n",
    "plt.show()"
   ],
   "metadata": {
    "collapsed": false,
    "ExecuteTime": {
     "end_time": "2023-10-08T16:22:20.543119100Z",
     "start_time": "2023-10-08T16:22:17.551881400Z"
    }
   },
   "id": "7bc8bcb00bb30470"
  },
  {
   "cell_type": "markdown",
   "source": [
    "## 8. Apa model terbaik yang Anda dapatkan? Bagaimana konfigurasinya? Berapa tingkat akurasi yang didapatkan? Jelaskan!"
   ],
   "metadata": {
    "collapsed": false
   },
   "id": "ebde881026e6b78f"
  },
  {
   "cell_type": "markdown",
   "source": [
    "### Model terbaik menggunakan model SVM yang mana hasil dari metode tersebut adalah 0.98 yang hampir mendekati 1 (optimal) akan tetapi kekurangannya adalah waktu yang dibutuhkan untuk mengeksekusi programnnya jauh lebih lama"
   ],
   "metadata": {
    "collapsed": false
   },
   "id": "c8178f7014a948a0"
  },
  {
   "cell_type": "code",
   "execution_count": null,
   "outputs": [],
   "source": [],
   "metadata": {
    "collapsed": false
   },
   "id": "bd952b7718e6122c"
  }
 ],
 "metadata": {
  "kernelspec": {
   "display_name": "Python 3",
   "language": "python",
   "name": "python3"
  },
  "language_info": {
   "codemirror_mode": {
    "name": "ipython",
    "version": 2
   },
   "file_extension": ".py",
   "mimetype": "text/x-python",
   "name": "python",
   "nbconvert_exporter": "python",
   "pygments_lexer": "ipython2",
   "version": "2.7.6"
  }
 },
 "nbformat": 4,
 "nbformat_minor": 5
}
